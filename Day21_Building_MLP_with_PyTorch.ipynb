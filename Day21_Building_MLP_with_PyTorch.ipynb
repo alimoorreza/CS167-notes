{
  "cells": [
    {
      "cell_type": "markdown",
      "metadata": {
        "id": "view-in-github",
        "colab_type": "text"
      },
      "source": [
        "<a href=\"https://colab.research.google.com/github/alimoorreza/CS167-notes/blob/main/Day21_Building_MLP_with_PyTorch.ipynb\" target=\"_parent\"><img src=\"https://colab.research.google.com/assets/colab-badge.svg\" alt=\"Open In Colab\"/></a>"
      ]
    },
    {
      "cell_type": "markdown",
      "metadata": {
        "id": "HHJrUI0I4uVJ"
      },
      "source": [
        "# CS167: Day21\n",
        "## Building a Very Simple MLP using PyTorch Library\n",
        "\n",
        "#### CS167: Machine Learning, Fall 2023\n",
        "\n",
        "Tuesday, 14th, 2023\n"
      ]
    },
    {
      "cell_type": "code",
      "source": [
        "from google.colab import drive\n",
        "drive.mount('/content/drive')"
      ],
      "metadata": {
        "colab": {
          "base_uri": "https://localhost:8080/"
        },
        "id": "2uOuh6vYJpeR",
        "outputId": "b03afd5c-7044-4af3-d6c4-44aba7f4f513"
      },
      "execution_count": null,
      "outputs": [
        {
          "output_type": "stream",
          "name": "stdout",
          "text": [
            "Mounted at /content/drive\n"
          ]
        }
      ]
    },
    {
      "cell_type": "markdown",
      "metadata": {
        "id": "1XC7VEFe4uVh"
      },
      "source": [
        "# Introduction to PyTorch\n",
        "\n",
        "We can use PyTorch Framework to build and train MLPs and other neural networks such as CNN, RNN, LSTM, Transformers. Let's learn the basics of PyTorch."
      ]
    },
    {
      "cell_type": "markdown",
      "source": [
        "__Tensor__: are similar to NumPy's ndarrays, except that tensors can run on GPUs or other hardware accelerators. Tensors are optimized for automatic differentiation (PyTorch's Autograd)\n",
        "<div>\n",
        "<img src=\"https://analytics.drake.edu/~reza/teaching/cs167_fall23/notes/images/matrix_and_tensor.png\" width=800/>\n",
        "</div>"
      ],
      "metadata": {
        "id": "y82JSQ5nNVI9"
      }
    },
    {
      "cell_type": "code",
      "source": [
        "# import torch library\n",
        "import torch\n",
        "import torch.nn as nn\n",
        "import numpy as np"
      ],
      "metadata": {
        "id": "LwgBlHEvJDEJ"
      },
      "execution_count": null,
      "outputs": []
    },
    {
      "cell_type": "markdown",
      "source": [
        "## __Put the Model on Training Device (GPU or CPU)__\n",
        "We want to accelerate the training process using graphical processing unit (GPU). Fortunately, in Colab we can access for GPU. You need to enable it from _Runtime-->Change runtime type-->GPU or TPU_"
      ],
      "metadata": {
        "id": "OpvuEwrzrVe8"
      }
    },
    {
      "cell_type": "code",
      "source": [
        "# check to see if torch.cuda is available, otherwise it will use CPU\n",
        "import torch\n",
        "import torch.nn as nn\n",
        "import numpy as np\n",
        "device = (\n",
        "    \"cuda\"\n",
        "    if torch.cuda.is_available()\n",
        "    else \"cpu\"\n",
        ")\n",
        "print(f\"Using {device} device\")\n"
      ],
      "metadata": {
        "colab": {
          "base_uri": "https://localhost:8080/"
        },
        "id": "jFa7eTujrik7",
        "outputId": "ded7f6aa-8f83-491a-95c3-1afbe36ac7d4"
      },
      "execution_count": null,
      "outputs": [
        {
          "output_type": "stream",
          "name": "stdout",
          "text": [
            "Using cpu device\n"
          ]
        }
      ]
    },
    {
      "cell_type": "markdown",
      "source": [
        "#__Building Multilayer Perceptron (MLP)__\n",
        "A multilayer perceptron is the simplest type of neural network. It consists of perceptrons (aka nodes, neurons) arranged in layers.\n",
        "<div>\n",
        "<img src=\"https://analytics.drake.edu/~reza/teaching/cs167_fall23/notes/images/mlp_toy_example.png\" width=800/>\n",
        "</div>\n",
        "\n"
      ],
      "metadata": {
        "id": "euH-4WBP2Gsc"
      }
    },
    {
      "cell_type": "code",
      "source": [
        "# let's generate 4 random samples of (x1, x2) for the above network\n",
        "random_X = torch.randn(4,2) # you could imagine that these are pairs of (x1, x2) as shown in the above table\n",
        "print('random_X = \\n', random_X.numpy())\n",
        "input_feature_size = random_X.shape[1] # number of columns corresponds to feature dimension\n",
        "print('\\n\\ninput feature dimension: ', input_feature_size)"
      ],
      "metadata": {
        "colab": {
          "base_uri": "https://localhost:8080/"
        },
        "id": "ziMQHP1c72TB",
        "outputId": "9e284f33-65a8-402b-edb4-ece5c5540491"
      },
      "execution_count": null,
      "outputs": [
        {
          "output_type": "stream",
          "name": "stdout",
          "text": [
            "random_X = \n",
            " [[-1.3148768  -0.27564213]\n",
            " [-1.3431013  -1.1293128 ]\n",
            " [-0.06505486  0.18385951]\n",
            " [ 0.36745936  0.21915343]]\n",
            "\n",
            "\n",
            "input feature dimension:  2\n"
          ]
        }
      ]
    },
    {
      "cell_type": "code",
      "source": [
        "# you can also explicitly incorporate the x0 input which accounts for the bias term in our network\n",
        "# recall that x0 will always be constant value of 1\n",
        "'''\n",
        "input_x_vector = torch.ones(4, 3)\n",
        "input_x_vector[:,1:3] = random_X # using a slicing operation let's squeeze in all (x1, x2) while retaining x0 as 1\n",
        "print(input_x_vector.numpy())\n",
        "input_feature_size = input_x_vector.shape[1] # number of columns corresponds to feature dimension\n",
        "print('\\n\\ninput feature dimension: ', input_feature_size)\n",
        "'''"
      ],
      "metadata": {
        "colab": {
          "base_uri": "https://localhost:8080/",
          "height": 73
        },
        "id": "o5kZ-gcr9Tzw",
        "outputId": "2b7eec24-a6a5-4d02-876a-b8b5b2563b6b"
      },
      "execution_count": null,
      "outputs": [
        {
          "output_type": "execute_result",
          "data": {
            "text/plain": [
              "\"\\ninput_x_vector = torch.ones(4, 3)\\ninput_x_vector[:,1:3] = random_X # using a slicing operation let's squeeze in all (x1, x2) while retaining x0 as 1\\nprint(input_x_vector.numpy())\\ninput_feature_size = input_x_vector.shape[1] # number of columns corresponds to feature dimension\\nprint('\\n\\ninput feature dimension: ', input_feature_size)\\n\""
            ],
            "application/vnd.google.colaboratory.intrinsic+json": {
              "type": "string"
            }
          },
          "metadata": {},
          "execution_count": 8
        }
      ]
    },
    {
      "cell_type": "markdown",
      "source": [
        "Each of these questions need to be answered before you set up your neural network:\n",
        "- Q1: how many hidden layers should be there? (depth)\n",
        "- Q2: how many neurons should be in each layer? (width)\n",
        "- Q3  how many dense connections should be there in between each adjacent layers\n",
        "- Q4: what should the activation be at each of the intermediate layers?\n",
        "  - we could use _sigmoid()_, _tanh()_, _rectified-linear-unit()_, etc\n",
        "- Q5: what should be activation of the final layer\n",
        "  - depends the task _classification_ (sigmoid(), softmax()) vs. _regression_"
      ],
      "metadata": {
        "id": "SsSamDwm3YPZ"
      }
    },
    {
      "cell_type": "code",
      "source": [
        "# Q1: how many hidden layers should be there? (depth)\n",
        "# answer: there is only 1 hidden layer\n",
        "num_of_hidden_layer = 1\n",
        "\n",
        "# Q2: how many neurons should be in each layer? (width)\n",
        "# answer: there are 2 neurons in the input  layer\n",
        "#         there are 3 neurons in the hidden layer\n",
        "#         there are 1 neurons in the output layer\n",
        "num_of_neurons_input_layer  = 2\n",
        "#num_of_neurons_input_layer  = input_feature_size # also can be assigned from 'input_feature_size' (which we computed in the previous cell)\n",
        "num_of_neurons_hidden_layer = 3\n",
        "num_of_neurons_output_layer = 1\n",
        "\n",
        "# Q3 how many dense connections should be there in between each adjacent layers\n",
        "# answer: there should be 2x3 dense connnections (between input  layer and hidden layer: dense_connections_W1)\n",
        "#         there should be 3x1 dense connnections (between hidden layer and output layer: dense_connections_W2)\n",
        "dense_connections_W1 = torch.randn(num_of_neurons_input_layer,  num_of_neurons_hidden_layer)\n",
        "dense_connections_W2 = torch.randn(num_of_neurons_hidden_layer, num_of_neurons_output_layer)\n",
        "print('Random initialized weights between input  layer and hidden layer: dense_connections_W1=\\n', dense_connections_W1.numpy())\n",
        "print('Random initialized weights between input  layer and hidden layer: dense_connections_W2=\\n', dense_connections_W2.numpy())\n",
        "# add the bias terms for all the layers except input layer\n",
        "bias_terms_hidden    = torch.randn(num_of_neurons_hidden_layer)\n",
        "bias_terms_output    = torch.randn(num_of_neurons_output_layer)\n",
        "print('bias_terms_hidden:\\n', bias_terms_hidden.numpy())\n",
        "print('bias_terms_output:\\n', bias_terms_output.numpy())"
      ],
      "metadata": {
        "colab": {
          "base_uri": "https://localhost:8080/"
        },
        "id": "paiHI3yd2y0P",
        "outputId": "3ba35057-0337-4844-abe8-d522c1382e6e"
      },
      "execution_count": null,
      "outputs": [
        {
          "output_type": "stream",
          "name": "stdout",
          "text": [
            "Random initialized weights between input  layer and hidden layer: dense_connections_W1=\n",
            " [[ 0.6858183  -0.7984608   1.3017114 ]\n",
            " [ 0.9997391   0.09435364 -0.58392817]]\n",
            "Random initialized weights between input  layer and hidden layer: dense_connections_W2=\n",
            " [[ 0.93332046]\n",
            " [-0.7989168 ]\n",
            " [-0.9003911 ]]\n",
            "bias_terms_hidden:\n",
            " [ 0.1285256  -0.30537722 -1.2979435 ]\n",
            "bias_terms_output:\n",
            " [0.74658906]\n"
          ]
        }
      ]
    },
    {
      "cell_type": "markdown",
      "source": [
        "A multilayer perceptron is the simplest type of neural network. It  consists of perceptrons (aka nodes, neurons) arranged in layers. There are 6 connections between input and hidden layer and 3 connections between hidden and output layers with the random initialized using PyTorch code above.\n",
        "<div>\n",
        "<img src=\"https://analytics.drake.edu/~reza/teaching/cs167_fall23/notes/images/mlp_toy_example.png\" width=800/>\n",
        "</div>\n",
        "\n"
      ],
      "metadata": {
        "id": "MdI_pBInG_Pd"
      }
    },
    {
      "cell_type": "code",
      "source": [
        "# Q4: what should the activation be at each of the intermediate layers?\n",
        "# answer: let use sigmoid() activation function in the hidden layer\n",
        "sigmoid_activation_hidden = nn.Sigmoid()"
      ],
      "metadata": {
        "id": "iDsEMB1eHBjA"
      },
      "execution_count": null,
      "outputs": []
    },
    {
      "cell_type": "code",
      "source": [
        "# Q5: what should be activation of the final layer (let's assume we are using a binary classification task for which sigmoid ctivation is used)\n",
        "sigmoid_activation_output = nn.Sigmoid()"
      ],
      "metadata": {
        "id": "oM-R456_KwYQ"
      },
      "execution_count": null,
      "outputs": []
    },
    {
      "cell_type": "markdown",
      "source": [
        "__Forward Pass in Multilayer Perceptron (MLP)__\n",
        "\n",
        "<div>\n",
        "<img src=\"https://analytics.drake.edu/~reza/teaching/cs167_fall23/notes/images/mlp_toy_example_forward_pass.png\" width=800/>\n",
        "</div>\n",
        "\n",
        "Each neuron contains two operations:\n",
        "- a dot product between a weight vector (edges in the graph) and an input vector\n",
        "- that number through an activation function, which produces a number as an output\n",
        "\n",
        "We can collective do all these dot products in a single layer using a single matrix-matrix multiplication [torch.matmul()](https://pytorch.org/docs/stable/generated/torch.matmul.html) as follows.\n",
        "\n",
        "Also add the bias-term after computing the matrix multiplication"
      ],
      "metadata": {
        "id": "52EgSA4RLxyT"
      }
    },
    {
      "cell_type": "code",
      "source": [
        "matrix_mult_X_and_W1 = torch.matmul(random_X, dense_connections_W1) + bias_terms_hidden\n",
        "print('hidden layer input vector and weight vector dot products: \\n', matrix_mult_X_and_W1.numpy())\n",
        "output_hidden_layer = sigmoid_activation_hidden(matrix_mult_X_and_W1)\n",
        "print('output of hidden layer: \\n', output_hidden_layer.numpy())\n"
      ],
      "metadata": {
        "colab": {
          "base_uri": "https://localhost:8080/"
        },
        "id": "8XrBmU1sN0Gi",
        "outputId": "a617d4d2-8119-4158-c7cf-004b5154c31e"
      },
      "execution_count": null,
      "outputs": [
        {
          "output_type": "stream",
          "name": "stdout",
          "text": [
            "hidden layer input vector and weight vector dot products: \n",
            " [[-1.0488112   0.7184924  -2.8485785 ]\n",
            " [-1.921616    0.6604817  -2.386836  ]\n",
            " [ 0.26772133 -0.23608565 -1.4899869 ]\n",
            " [ 0.5996322  -0.57810116 -0.94758725]]\n",
            "output of hidden layer: \n",
            " [[0.25945345 0.67227495 0.05475485]\n",
            " [0.12768148 0.6593686  0.08418204]\n",
            " [0.5665334  0.4412512  0.18392369]\n",
            " [0.6455722  0.35936964 0.2793703 ]]\n"
          ]
        }
      ]
    },
    {
      "cell_type": "code",
      "source": [
        "matrix_mult_hidden_and_W2 = torch.matmul(output_hidden_layer, dense_connections_W2) + bias_terms_output\n",
        "print('output of output layer: \\n', matrix_mult_hidden_and_W2)\n",
        "final_output = sigmoid_activation_output(matrix_mult_hidden_and_W2)\n",
        "print('output of hidden layer: \\n', final_output.numpy())"
      ],
      "metadata": {
        "colab": {
          "base_uri": "https://localhost:8080/"
        },
        "id": "Db10EkD0PWyM",
        "outputId": "75e4a134-8441-404f-deda-39219fbbfc3c"
      },
      "execution_count": null,
      "outputs": [
        {
          "output_type": "stream",
          "name": "stdout",
          "text": [
            "output of output layer: \n",
            " tensor([[0.4023],\n",
            "        [0.2632],\n",
            "        [0.7572],\n",
            "        [0.8105]])\n",
            "output of hidden layer: \n",
            " [[0.5992521 ]\n",
            " [0.5654177 ]\n",
            " [0.68074983]\n",
            " [0.69220877]]\n"
          ]
        }
      ]
    },
    {
      "cell_type": "code",
      "source": [],
      "metadata": {
        "id": "lrnZVVoHReM0"
      },
      "execution_count": null,
      "outputs": []
    },
    {
      "cell_type": "markdown",
      "source": [
        "#__Building Modular Code for Multilayer Perceptron (MLP)__\n",
        "\n",
        "<div>\n",
        "<img src=\"https://analytics.drake.edu/~reza/teaching/cs167_fall23/notes/images/mlp_network1.png\" width=800/>\n",
        "</div>\n",
        "\n",
        "A multilayer perceptron is the simplest type of neural network. It consists of perceptrons (aka nodes, neurons) arranged in layers.\n",
        "Create a network class with two methods:\n",
        "- _init()_\n",
        "- _forward()_\n"
      ],
      "metadata": {
        "id": "q4pTsgDsTEiw"
      }
    },
    {
      "cell_type": "code",
      "source": [
        "import torch\n",
        "from torch import nn\n",
        "\n",
        "# You can give any name to your new network, e.g., SimpleMLP.\n",
        "# However, you have to mandatorily inherit from nn.Module to\n",
        "# create your own network class. That way, you can access a lot of\n",
        "# useful methods and attributes from the parent class nn.Module\n",
        "\n",
        "class SimpleMLP(nn.Module):\n",
        "  def __init__(self):\n",
        "    super().__init__()\n",
        "    # your network layer construction should take place here\n",
        "    # ...\n",
        "    # ...\n",
        "\n",
        "  def forward(self, x):\n",
        "    # your code for MLP forward pass should take place here\n",
        "    # ...\n",
        "    # ...\n",
        "    return x"
      ],
      "metadata": {
        "id": "9DxGu6AUTW10"
      },
      "execution_count": null,
      "outputs": []
    },
    {
      "cell_type": "markdown",
      "source": [
        "Let's create the MLP as shown in the picture above using this template. In general, we will follow this template for constructing other neural networks such as CNN, RNN, and Transformer in PyTorch. Hence, it is a very generic setup. Here are the useful PyTorch modules we will be using for MLP construction:\n",
        "- [nn.Linear()](https://pytorch.org/docs/stable/generated/torch.nn.Linear.html#torch.nn.Linear)\n",
        "  - creates the dense connections (corresponding to the weigts of edges) between two adjacent layers (_left layer_ and _right layer_)\n",
        "  - just provide __#neurons_left_layer__ and __#neurons_right_layer__\n",
        "- [nn.Sigmoid()](https://pytorch.org/docs/stable/generated/torch.nn.Sigmoid.html#sigmoid)\n",
        "- [nn.ReLU()](https://pytorch.org/docs/stable/generated/torch.nn.ReLU.html#relu)\n",
        "- [nn.Softmax()](https://pytorch.org/docs/stable/generated/torch.nn.Softmax.html#softmax)"
      ],
      "metadata": {
        "id": "ww0jFonlZh4U"
      }
    },
    {
      "cell_type": "code",
      "source": [
        "import torch\n",
        "from torch import nn\n",
        "import pdb\n",
        "\n",
        "class SimpleMLPv1(nn.Module):\n",
        "  def __init__(self):\n",
        "    super().__init__()\n",
        "    # your network layer construction should take place here\n",
        "\n",
        "    num_of_neurons_input_layer      = 784\n",
        "    num_of_neurons_1st_hidden_layer = 256\n",
        "    num_of_neurons_output_layer     = 10 # usually this number should be equal to the total number of classes in your classification task\n",
        "\n",
        "    self.first_hidden_layer         = nn.Linear(num_of_neurons_input_layer, num_of_neurons_1st_hidden_layer)  # linear transformation module (input=784, output=256)\n",
        "    self.relu_activation_h1         = nn.ReLU()\n",
        "    self.output_layer               = nn.Linear(num_of_neurons_1st_hidden_layer, num_of_neurons_output_layer) # linear transformation module (input=256, output=10)\n",
        "\n",
        "\n",
        "  def forward(self, x):\n",
        "    # your code for MLP forward pass should take place here\n",
        "    output = self.first_hidden_layer(x)\n",
        "    output = self.relu_activation_h1(output)\n",
        "    print('1nd-hidden layer feature map shape: ', output.shape)\n",
        "    output = self.output_layer(output)\n",
        "    print('Output layer feature map shape: ', output.shape)\n",
        "    #output = self.softmax_activation(output)\n",
        "\n",
        "    return output\n"
      ],
      "metadata": {
        "id": "QT4lcLVQaUNn"
      },
      "execution_count": null,
      "outputs": []
    },
    {
      "cell_type": "code",
      "source": [
        "import torch\n",
        "from torch import nn\n",
        "import pdb\n",
        "\n",
        "class SimpleMLPv2(nn.Module):\n",
        "  def __init__(self):\n",
        "    super().__init__()\n",
        "    # your network layer construction should take place here\n",
        "\n",
        "    num_of_neurons_input_layer      = 784\n",
        "    num_of_neurons_1st_hidden_layer = 512\n",
        "    num_of_neurons_2nd_hidden_layer = 256\n",
        "    num_of_neurons_output_layer     = 10 # usually this number should be equal to the total number of classes in your classification task\n",
        "\n",
        "    self.first_hidden_layer         = nn.Linear(num_of_neurons_input_layer, num_of_neurons_1st_hidden_layer)  # linear transformation module (input=784, output=512)\n",
        "    self.relu_activation_h1         = nn.ReLU()\n",
        "    self.second_hidden_layer        = nn.Linear(num_of_neurons_1st_hidden_layer, num_of_neurons_2nd_hidden_layer)  # linear transformation module (input=512, output=256)\n",
        "    self.relu_activation_h2         = nn.ReLU()\n",
        "    self.output_layer               = nn.Linear(num_of_neurons_2nd_hidden_layer, num_of_neurons_output_layer) # linear transformation module (input=256, output=10)\n",
        "\n",
        "\n",
        "  def forward(self, x):\n",
        "    # your code for MLP forward pass should take place here\n",
        "    output = self.first_hidden_layer(x)\n",
        "    output = self.relu_activation_h1(output)\n",
        "    print('1nd-hidden layer feature map shape: ', output.shape)\n",
        "    output = self.second_hidden_layer(output)\n",
        "    output = self.relu_activation_h2(output)\n",
        "    print('2nd-hidden layer feature map shape: ', output.shape)\n",
        "    output = self.output_layer(output)\n",
        "    print('Output layer feature map shape: ', output.shape)\n",
        "    #output = self.softmax_activation(output)\n",
        "\n",
        "    return output\n"
      ],
      "metadata": {
        "id": "HNuxDcIFYjY6"
      },
      "execution_count": null,
      "outputs": []
    },
    {
      "cell_type": "code",
      "source": [
        "# check the structure of your MLP\n",
        "mlp_model = SimpleMLPv2()\n",
        "print(mlp_model)"
      ],
      "metadata": {
        "colab": {
          "base_uri": "https://localhost:8080/"
        },
        "id": "ZlwRblRgmVlv",
        "outputId": "45d7b0f6-213f-4538-f1c2-e08b58f5e0f6"
      },
      "execution_count": null,
      "outputs": [
        {
          "output_type": "stream",
          "name": "stdout",
          "text": [
            "SimpleMLPv2(\n",
            "  (first_hidden_layer): Linear(in_features=784, out_features=512, bias=True)\n",
            "  (relu_activation_h1): ReLU()\n",
            "  (second_hidden_layer): Linear(in_features=512, out_features=256, bias=True)\n",
            "  (relu_activation_h2): ReLU()\n",
            "  (output_layer): Linear(in_features=256, out_features=10, bias=True)\n",
            ")\n"
          ]
        }
      ]
    },
    {
      "cell_type": "code",
      "source": [
        "# check the sizes of weights and biases of your MLP's 1st hidden layers\n",
        "print('size of weights of first_hidden_layer: \\n ', mlp_model.first_hidden_layer.weight.shape)\n",
        "print('size of bias of first_hidden_layer: \\n ', mlp_model.first_hidden_layer.bias.shape)"
      ],
      "metadata": {
        "colab": {
          "base_uri": "https://localhost:8080/"
        },
        "id": "5q0AlCh4vcDh",
        "outputId": "756b2ad6-c037-4115-ebcf-dd38726906ed"
      },
      "execution_count": null,
      "outputs": [
        {
          "output_type": "stream",
          "name": "stdout",
          "text": [
            "size of weights of first_hidden_layer: \n",
            "  torch.Size([512, 784])\n",
            "size of bias of first_hidden_layer: \n",
            "  torch.Size([512])\n"
          ]
        }
      ]
    },
    {
      "cell_type": "code",
      "source": [
        "# check the randomly initialized values of weights and biases of your MLP's 1st hidden layers\n",
        "print('weights of first_hidden_layer: \\n ', mlp_model.first_hidden_layer.weight)\n",
        "print('bias of first_hidden_layer: \\n ', mlp_model.first_hidden_layer.bias)"
      ],
      "metadata": {
        "id": "8-WYre5Fu5qZ"
      },
      "execution_count": null,
      "outputs": []
    },
    {
      "cell_type": "code",
      "source": [
        "# check the sizes of weights and biases of your MLP's 2nd hidden layer\n",
        "print('size of weights of second_hidden_layer: \\n ', mlp_model.second_hidden_layer.weight.shape)\n",
        "print('size of bias of second_hidden_layer: \\n ', mlp_model.second_hidden_layer.bias.shape)"
      ],
      "metadata": {
        "colab": {
          "base_uri": "https://localhost:8080/"
        },
        "id": "eNDQja9Zv6To",
        "outputId": "67c5fd97-b744-43f2-fecd-fe1ced6f98cc"
      },
      "execution_count": null,
      "outputs": [
        {
          "output_type": "stream",
          "name": "stdout",
          "text": [
            "size of weights of second_hidden_layer: \n",
            "  torch.Size([256, 512])\n",
            "size of bias of second_hidden_layer: \n",
            "  torch.Size([256])\n"
          ]
        }
      ]
    },
    {
      "cell_type": "code",
      "source": [
        "mlp_model.to(device)\n",
        "print(mlp_model)"
      ],
      "metadata": {
        "colab": {
          "base_uri": "https://localhost:8080/"
        },
        "id": "FjNqZvq9gl2Q",
        "outputId": "253b86e9-7071-4876-bf93-d1f5ce7295cf"
      },
      "execution_count": null,
      "outputs": [
        {
          "output_type": "stream",
          "name": "stdout",
          "text": [
            "SimpleMLPv2(\n",
            "  (first_hidden_layer): Linear(in_features=784, out_features=512, bias=True)\n",
            "  (relu_activation_h1): ReLU()\n",
            "  (second_hidden_layer): Linear(in_features=512, out_features=256, bias=True)\n",
            "  (relu_activation_h2): ReLU()\n",
            "  (output_layer): Linear(in_features=256, out_features=10, bias=True)\n",
            ")\n"
          ]
        }
      ]
    },
    {
      "cell_type": "markdown",
      "source": [
        "#__Load the Dataset for your MLP__"
      ],
      "metadata": {
        "id": "2yy5gwTelaGL"
      }
    },
    {
      "cell_type": "markdown",
      "source": [
        "We can easily import some [built-in datasets](https://pytorch.org/vision/stable/datasets.html) from PyTorch's [torchvision.datasets](torchvision.datasets) module\n",
        "- [Fashion-MNIST](https://github.com/zalandoresearch/fashion-mnist)\n",
        "  - each image size: 28x28 grayscale image\n",
        "  - each image is associated with a label from __10 classes__\n",
        "  - training set of 60,000 examples and a test set of 10,000 examples\n",
        "\n",
        "<div>\n",
        "<img src=\"https://analytics.drake.edu/~reza/teaching/cs167_fall23/notes/images/fashion-mnist-sprite.png\" width=500/>\n",
        "</div>\n"
      ],
      "metadata": {
        "id": "was3XRLnzI45"
      }
    },
    {
      "cell_type": "code",
      "source": [
        "from google.colab import drive\n",
        "drive.mount('/content/drive')"
      ],
      "metadata": {
        "colab": {
          "base_uri": "https://localhost:8080/"
        },
        "id": "K5JadE0WHaCA",
        "outputId": "e0ed8a97-c6a3-4392-e0dd-ea93d822d445"
      },
      "execution_count": null,
      "outputs": [
        {
          "output_type": "stream",
          "name": "stdout",
          "text": [
            "Mounted at /content/drive\n"
          ]
        }
      ]
    },
    {
      "cell_type": "code",
      "source": [
        "import torch\n",
        "from torch.utils.data import Dataset\n",
        "from torchvision import datasets # torchvision has many deep learning benchmark datasets Fashion-MNIST, CIFAR-10, Caltech-50, etc\n",
        "from torchvision.transforms import ToTensor\n",
        "import matplotlib.pyplot as plt\n",
        "\n",
        "\n",
        "training_data = datasets.FashionMNIST(\n",
        "    root=\"/content/drive/MyDrive/cs167_fall23/datasets\",\n",
        "    train=True,\n",
        "    download=True,\n",
        "    transform=ToTensor() # specify the feature and label transformations\n",
        ")\n",
        "\n",
        "test_data = datasets.FashionMNIST(\n",
        "    root=\"/content/drive/MyDrive/cs167_fall23/datasets\",\n",
        "    train=False,\n",
        "    download=True,\n",
        "    transform=ToTensor()\n",
        ")\n"
      ],
      "metadata": {
        "id": "ngXlX8e1xbE1"
      },
      "execution_count": null,
      "outputs": []
    },
    {
      "cell_type": "markdown",
      "source": [
        "__Explore some sample training images__"
      ],
      "metadata": {
        "id": "D4X_HhpDJbis"
      }
    },
    {
      "cell_type": "code",
      "source": [
        "labels_map = {\n",
        "    0: \"T-Shirt\",\n",
        "    1: \"Trouser\",\n",
        "    2: \"Pullover\",\n",
        "    3: \"Dress\",\n",
        "    4: \"Coat\",\n",
        "    5: \"Sandal\",\n",
        "    6: \"Shirt\",\n",
        "    7: \"Sneaker\",\n",
        "    8: \"Bag\",\n",
        "    9: \"Ankle Boot\",\n",
        "}\n",
        "#image, label = training_data[10000]\n",
        "#image, label = training_data[20000]\n",
        "image, label = training_data[50000] # training samples are saved in pairs/tuples of (image, label)\n",
        "print('sample image size: ', image.shape)\n",
        "print('label of the sample image: ', labels_map[label])"
      ],
      "metadata": {
        "colab": {
          "base_uri": "https://localhost:8080/"
        },
        "id": "ZJ9bx4xgJg6c",
        "outputId": "9228f139-89ec-4881-d2bf-1ba6dce5e7c4"
      },
      "execution_count": null,
      "outputs": [
        {
          "output_type": "stream",
          "name": "stdout",
          "text": [
            "sample image size:  torch.Size([1, 28, 28])\n",
            "label of the sample image:  Ankle Boot\n"
          ]
        }
      ]
    },
    {
      "cell_type": "code",
      "source": [
        "# Visualize a random set of images and their the labels from the training split\n",
        "# The following labels represent 10 classes, each with specific indices as defined by the creator of the Fashion-MNIST dataset\n",
        "# reference: https://github.com/zalandoresearch/fashion-mnist#labels\n",
        "labels_map = {\n",
        "    0: \"T-Shirt\",\n",
        "    1: \"Trouser\",\n",
        "    2: \"Pullover\",\n",
        "    3: \"Dress\",\n",
        "    4: \"Coat\",\n",
        "    5: \"Sandal\",\n",
        "    6: \"Shirt\",\n",
        "    7: \"Sneaker\",\n",
        "    8: \"Bag\",\n",
        "    9: \"Ankle Boot\",\n",
        "}\n",
        "figure = plt.figure(figsize=(5, 5))\n",
        "cols, rows = 5, 2\n",
        "for i in range(1, cols * rows + 1):\n",
        "    sample_idx = torch.randint(len(training_data), size=(1,)).item()\n",
        "    img, label = training_data[sample_idx]\n",
        "    figure.add_subplot(rows, cols, i)\n",
        "    plt.title(labels_map[label])\n",
        "    plt.axis(\"off\")\n",
        "    #print('image tensor size:', img.shape)\n",
        "    plt.imshow(img.squeeze(), cmap=\"gray\") # .squeeze() method removes the '1' from first dimension of the tensor [1, 28, 28]\n",
        "    #print('after removing the first dimension with ', img.squeeze().shape)\n",
        "plt.show()"
      ],
      "metadata": {
        "colab": {
          "base_uri": "https://localhost:8080/",
          "height": 336
        },
        "id": "wWlgSqhLJCHX",
        "outputId": "aaca66eb-8ce8-4201-d077-48adb50c73da"
      },
      "execution_count": null,
      "outputs": [
        {
          "output_type": "display_data",
          "data": {
            "text/plain": [
              "<Figure size 500x500 with 10 Axes>"
            ],
            "image/png": "[encoded data removed]"
          },
          "metadata": {}
        }
      ]
    },
    {
      "cell_type": "markdown",
      "source": [
        "##__Prepare Your Data with DataLoader for Training/Testing__\n",
        "We just explored one sample of data at a time. As we have seen in our discussion of the optimizer, specifically __Stochastic Gradient Descent (SGD)__, during training your network, we may need to pass them in __minibatches__. PyTorch has a module called __DataLoader__, which will do this automatically for us as long as we provide the right arguments:\n",
        "- prepare the __minibatches__ with the given _batch_size_ eg 16, 32, 64, 128, etc\n",
        "- multiprocessing to speed up the data retrieval\n",
        "- reshuffle the data at every __epoch__\n"
      ],
      "metadata": {
        "id": "C2ZArXcKLLUs"
      }
    },
    {
      "cell_type": "code",
      "source": [
        "from torch.utils.data import DataLoader\n",
        "#                              pairs of items,   minibatch size,      random shuffling turned ON\n",
        "train_dataloader = DataLoader(training_data,     batch_size=128,        shuffle=True)\n",
        "test_dataloader  = DataLoader(test_data,         batch_size=128,        shuffle=False) # for testing/inference: it is not necessary to shuffle\n"
      ],
      "metadata": {
        "id": "2_Ygg2YOMtUW"
      },
      "execution_count": null,
      "outputs": []
    },
    {
      "cell_type": "code",
      "source": [
        "# explore the data from the train_dataloader\n",
        "train_inputs, train_labels = next(iter(train_dataloader)) # returns a batch of 128 train-images and train-labels\n",
        "print(f\"Images batch shape: {train_inputs.shape}\")\n",
        "print(f\"Labels batch shape: {train_labels.shape}\")\n",
        "\n",
        "# visualize one of the samples in this batch of 128\n",
        "figure = plt.figure(figsize=(2, 2))\n",
        "img = train_inputs[127].squeeze() # I picked 127 but you can pick any index in between 0 to batch_size=128\n",
        "label = train_labels[127]         # It's a tensor datatype\n",
        "plt.title(labels_map[int(label)]) # For indexing, convert the 'tensor' datatype --> integer number datatype\n",
        "plt.imshow(img, cmap=\"gray\")\n",
        "plt.show()\n",
        "print(f\"Label: {label}\")"
      ],
      "metadata": {
        "colab": {
          "base_uri": "https://localhost:8080/",
          "height": 293
        },
        "id": "Vgo6d23KS__O",
        "outputId": "003146f5-cad4-4434-c9e7-599d73b184d8"
      },
      "execution_count": null,
      "outputs": [
        {
          "output_type": "stream",
          "name": "stdout",
          "text": [
            "Images batch shape: torch.Size([128, 1, 28, 28])\n",
            "Labels batch shape: torch.Size([128])\n"
          ]
        },
        {
          "output_type": "display_data",
          "data": {
            "text/plain": [
              "<Figure size 200x200 with 1 Axes>"
            ],
            "image/png": "[encoded data removed]"
          },
          "metadata": {}
        },
        {
          "output_type": "stream",
          "name": "stdout",
          "text": [
            "Label: 2\n"
          ]
        }
      ]
    },
    {
      "cell_type": "markdown",
      "source": [
        "#__Forward Pass using your Dataset and your MLP__\n",
        "Test a forward pass of our MLP using one of the training samples. You need to convert a matrix of numbers into a contiguous vector using the following PyTorch module:\n",
        "- [nn.flatten()](https://pytorch.org/docs/stable/generated/torch.nn.Flatten.html)\n",
        "\n",
        "The forward method inside our network class, __SimpleMLPv2__, will be invoked if we provide an input tensor __'X'__ to the network object we instantiated earlier, i.e., __mlp_model__, as follows:\n",
        "- _output = mlp_model(X)_\n",
        "\n",
        "Finally, we convert the ouput from the model into probabilities using __Softmax()__ module:\n",
        "- _pred_probab = softmax_activation(output)_\n",
        "\n"
      ],
      "metadata": {
        "id": "HGToEDVFl9rQ"
      }
    },
    {
      "cell_type": "code",
      "source": [
        "img   = train_inputs[100] # I picked 127 but you can pick any index in between 0 to batch_size=128\n",
        "label = train_labels[100]\n",
        "\n",
        "softmax_activation = nn.Softmax(dim=0)\n",
        "\n",
        "X           = img.flatten()\n",
        "print('shape of X: ', X.shape)\n",
        "output      = mlp_model(X)                # last layer of our network will return 10 values each will range in between in [-infty, infty]\n",
        "pred_probab = softmax_activation(output)  # these raw numbers scaled to values [0, 1] representing the model’s predicted probabilities for each class\n",
        "print('predited probability \\n', pred_probab)\n",
        "y_pred      = pred_probab.argmax()\n",
        "print(f\"Predicted class: {y_pred}\")\n"
      ],
      "metadata": {
        "colab": {
          "base_uri": "https://localhost:8080/"
        },
        "id": "7OQed_nsazcw",
        "outputId": "ad4da4c9-9f9c-4c53-b355-b1be094adddb"
      },
      "execution_count": null,
      "outputs": [
        {
          "output_type": "stream",
          "name": "stdout",
          "text": [
            "shape of X:  torch.Size([784])\n",
            "1nd-hidden layer feature map shape:  torch.Size([512])\n",
            "2nd-hidden layer feature map shape:  torch.Size([256])\n",
            "Output layer feature map shape:  torch.Size([10])\n",
            "predited probability \n",
            " tensor([0.1040, 0.0999, 0.1160, 0.0904, 0.0971, 0.1006, 0.1086, 0.0929, 0.0963,\n",
            "        0.0942], grad_fn=<SoftmaxBackward0>)\n",
            "Predicted class: 2\n"
          ]
        }
      ]
    },
    {
      "cell_type": "code",
      "source": [
        "# model parameter counts to find out how many parameter this model will learn from the data\n",
        "for name, param in mlp_model.named_parameters():\n",
        "    print(f\"Layer: {name} | Size: {param.size()} \\n\")\n"
      ],
      "metadata": {
        "colab": {
          "base_uri": "https://localhost:8080/"
        },
        "id": "XCqis2b5kU8A",
        "outputId": "e2d3f41c-5bd3-4d69-d4ca-b74f3ed41308"
      },
      "execution_count": null,
      "outputs": [
        {
          "output_type": "stream",
          "name": "stdout",
          "text": [
            "Layer: first_hidden_layer.weight | Size: torch.Size([512, 784]) \n",
            "\n",
            "Layer: first_hidden_layer.bias | Size: torch.Size([512]) \n",
            "\n",
            "Layer: second_hidden_layer.weight | Size: torch.Size([256, 512]) \n",
            "\n",
            "Layer: second_hidden_layer.bias | Size: torch.Size([256]) \n",
            "\n",
            "Layer: output_layer.weight | Size: torch.Size([10, 256]) \n",
            "\n",
            "Layer: output_layer.bias | Size: torch.Size([10]) \n",
            "\n"
          ]
        }
      ]
    },
    {
      "cell_type": "markdown",
      "source": [
        "##__Defining Loss function__\n",
        "\n",
        "- [nn.CrossEntropyLoss()](https://pytorch.org/docs/stable/generated/torch.nn.CrossEntropyLoss.html#torch.nn.CrossEntropyLoss)\n",
        "  - useful when training a __classification problem__ with __C__ classes.\n",
        "  - criterion computes the cross entropy loss between input logits and target\n",
        "- [nn.MSELoss()](https://pytorch.org/docs/stable/generated/torch.nn.MSELoss.html#torch.nn.MSELoss)\n",
        "  - useful when training a __regression problem__\n",
        "  - criterion that measures the mean squared error (squared L2 norm) between each element in the input _x_ and target _y_\n"
      ],
      "metadata": {
        "id": "f1gTfGDJm-2Z"
      }
    },
    {
      "cell_type": "code",
      "source": [
        "# initialize the loss function\n",
        "loss_fn = nn.CrossEntropyLoss() # this is useful for multiclass classification task"
      ],
      "metadata": {
        "id": "OK1bAAANnLMz"
      },
      "execution_count": null,
      "outputs": []
    },
    {
      "cell_type": "markdown",
      "source": [
        "##__Initializing the Optimizer__\n",
        "\n",
        "Optimiztaion, as we have discussed in previous week, is process of adjusting model parameters to reduce model error in each training step. PyTorch provides a selection of optimization algorithms in the [torch.optim](https://pytorch.org/docs/stable/optim.html) package. Some of them are as follows:\n",
        "- [torch.optim.SGD](https://pytorch.org/docs/stable/generated/torch.optim.SGD.html#torch.optim.SGD)\n",
        "- [torch.optim..Adam](https://pytorch.org/docs/stable/generated/torch.optim.Adam.html#torch.optim.Adam)\n",
        "- [torch.optim.RMSprop](https://pytorch.org/docs/stable/generated/torch.optim.RMSprop.html#torch.optim.RMSprop)\n",
        "\n",
        "In addition to selecting the optimizer, we can also select the yperparameters which are refered to as adjustable parameters crucial for controlling the model optimization process. You can influence the training and convergence of the model by tweaking these hyperparameters:\n",
        "- __epochs:__ denotes the number of iterations over the dataset\n",
        "- __batch size:__ represents the quantity of data samples in each iteration propagated through the network before updating the parameters\n",
        "- __learning rate:__ determines the extent of parameter updates made at each batch/epoch\n",
        "\n"
      ],
      "metadata": {
        "id": "J6Mwh6U1mGev"
      }
    },
    {
      "cell_type": "code",
      "source": [
        "learning_rate = 1e-3\n",
        "batch_size    = 128\n",
        "epochs        = 10\n",
        "# let's use SGD optimization algorithm for training our model\n",
        "optimizer     = torch.optim.SGD(mlp_model.parameters(), lr=learning_rate)"
      ],
      "metadata": {
        "id": "11-Lj-avlzFo"
      },
      "execution_count": null,
      "outputs": []
    },
    {
      "cell_type": "markdown",
      "source": [
        "__Simpliefy Our Networks with PyTorch's Sequential() Module__"
      ],
      "metadata": {
        "id": "pIDHTABd4wU1"
      }
    },
    {
      "cell_type": "code",
      "source": [
        "import torch\n",
        "from torch import nn\n",
        "import pdb\n",
        "\n",
        "class SimpleMLPv1(nn.Module):\n",
        "  def __init__(self):\n",
        "    super().__init__()\n",
        "    # your network layer construction should take place here\n",
        "\n",
        "    num_of_neurons_input_layer      = 784\n",
        "    num_of_neurons_1st_hidden_layer = 256\n",
        "    num_of_neurons_output_layer     = 10 # usually this number should be equal to the total number of classes in your classification task\n",
        "\n",
        "    self.flatten = nn.Flatten()\n",
        "    self.linear_layers = nn.Sequential(\n",
        "            nn.Linear(num_of_neurons_input_layer, num_of_neurons_1st_hidden_layer),  # linear transformation module (input=784, output=256)\n",
        "            nn.ReLU(),\n",
        "            nn.Linear(num_of_neurons_1st_hidden_layer, num_of_neurons_1st_hidden_layer),  # linear transformation module (input=512, output=256)\n",
        "            nn.ReLU(),\n",
        "            nn.Linear(num_of_neurons_1st_hidden_layer, num_of_neurons_output_layer) # linear transformation module (input=256, output=10)\n",
        "        )\n",
        "\n",
        "  def forward(self, x):\n",
        "    # your code for MLP forward pass should take place here\n",
        "    output = self.flatten(x)\n",
        "    output = self.linear_layers(output)\n",
        "    return output\n",
        "\n",
        "mlp_modelv1 = SimpleMLPv1()"
      ],
      "metadata": {
        "id": "EM6MC2gr4FA5"
      },
      "execution_count": null,
      "outputs": []
    },
    {
      "cell_type": "code",
      "source": [
        "class SimpleMLPv2(nn.Module):\n",
        "  def __init__(self):\n",
        "    super().__init__()\n",
        "    # your network layer construction should take place here\n",
        "\n",
        "    num_of_neurons_input_layer      = 784\n",
        "    num_of_neurons_1st_hidden_layer = 512\n",
        "    num_of_neurons_2nd_hidden_layer = 256\n",
        "    num_of_neurons_output_layer     = 10 # usually this number should be equal to the total number of classes in your classification task\n",
        "\n",
        "    self.flatten = nn.Flatten()\n",
        "    self.linear_layers = nn.Sequential(\n",
        "            nn.Linear(num_of_neurons_input_layer, num_of_neurons_1st_hidden_layer),       # linear transformation module (input=28*28, output=512)\n",
        "            nn.ReLU(),\n",
        "            nn.Linear(num_of_neurons_1st_hidden_layer, num_of_neurons_2nd_hidden_layer),  # linear transformation module (input=512, output=256)\n",
        "            nn.ReLU(),\n",
        "            nn.Linear(num_of_neurons_2nd_hidden_layer, num_of_neurons_output_layer)       # linear transformation module (input=256, output=10)\n",
        "        )\n",
        "\n",
        "  def forward(self, x):\n",
        "    # your code for MLP forward pass should take place here\n",
        "    output = self.flatten(x)\n",
        "    output = self.linear_layers(output)\n",
        "    return output\n",
        "\n",
        "mlp_modelv2 = SimpleMLPv2()"
      ],
      "metadata": {
        "id": "wVX1rUrGw2za"
      },
      "execution_count": null,
      "outputs": []
    },
    {
      "cell_type": "markdown",
      "source": [
        "#__Putting Everything Together MLP__"
      ],
      "metadata": {
        "id": "Z7yBVqvGmQM1"
      }
    },
    {
      "cell_type": "markdown",
      "source": [
        "__Putting Everything Together using our SimpleMLPv2 Network on Fashion-MNIST Dataset__\n"
      ],
      "metadata": {
        "id": "Xn0KYm8r1i1i"
      }
    },
    {
      "cell_type": "code",
      "source": [
        "# Step 1: load the Torch library and other utilities\n",
        "#----------------------------------------------------\n",
        "\n",
        "import torch\n",
        "from torch import nn\n",
        "from torch.utils.data import DataLoader\n",
        "from torchvision import datasets\n",
        "from torchvision.transforms import ToTensor\n",
        "\n",
        "# Step 2: load the dataset, ie, we are experimenting with Fashion-MNIST\n",
        "#--------------------------------------------------------------------------------------------------\n",
        "\n",
        "training_data = datasets.FashionMNIST(\n",
        "    root=\"fashion_mnist\",\n",
        "    train=True,\n",
        "    download=True,\n",
        "    transform=ToTensor()\n",
        ")\n",
        "\n",
        "test_data = datasets.FashionMNIST(\n",
        "    root=\"fashion_mnist\",\n",
        "    train=False,\n",
        "    download=True,\n",
        "    transform=ToTensor()\n",
        ")\n",
        "\n",
        "# Step 3: Create your MLP Network (call it SimpleMLPv3) with 3 hidden layers\n",
        "#--------------------------------------------------------------------------------------------------\n",
        "\n",
        "class SimpleMLPv2(nn.Module):\n",
        "  def __init__(self):\n",
        "    super().__init__()\n",
        "    # your network layer construction should take place here\n",
        "\n",
        "    num_of_neurons_input_layer      = 784\n",
        "    num_of_neurons_1st_hidden_layer = 512\n",
        "    num_of_neurons_2nd_hidden_layer = 256\n",
        "    num_of_neurons_output_layer     = 10 # usually this number should be equal to the total number of classes in your classification task\n",
        "\n",
        "    self.flatten = nn.Flatten()\n",
        "    self.linear_layers = nn.Sequential(\n",
        "            nn.Linear(num_of_neurons_input_layer, num_of_neurons_1st_hidden_layer),       # linear transformation module (input=28*28, output=512)\n",
        "            nn.ReLU(),\n",
        "            nn.Linear(num_of_neurons_1st_hidden_layer, num_of_neurons_2nd_hidden_layer),  # linear transformation module (input=512, output=256)\n",
        "            nn.ReLU(),\n",
        "            nn.Linear(num_of_neurons_2nd_hidden_layer, num_of_neurons_output_layer)       # linear transformation module (input=256, output=10)\n",
        "        )\n",
        "\n",
        "  def forward(self, x):\n",
        "    # your code for MLP forward pass should take place here\n",
        "    output = self.flatten(x)\n",
        "    output = self.linear_layers(output)\n",
        "    return output\n",
        "\n",
        "mlp_modelv2 = SimpleMLPv2()\n",
        "\n",
        "# Step 4: Your training and testing functions (you can copy it from the previous demo)\n",
        "#--------------------------------------------------------------------------------------\n",
        "\n",
        "\n",
        "def train_loop(dataloader, model, loss_fn, optimizer):\n",
        "\n",
        "    size = len(dataloader.dataset)\n",
        "\n",
        "    model.train()                   # set the model to training mode for best practices\n",
        "\n",
        "    train_loss = 0\n",
        "\n",
        "    for batch, (X, y) in enumerate(dataloader):\n",
        "        # compute prediction and loss\n",
        "        pred = model(X)\n",
        "        loss = loss_fn(pred, y)\n",
        "\n",
        "        # Backpropagation\n",
        "        loss.backward()\n",
        "        optimizer.step()\n",
        "        optimizer.zero_grad()\n",
        "\n",
        "        train_loss += loss.item()\n",
        "\n",
        "        if batch % 100 == 0:\n",
        "            loss, current = loss.item(), (batch + 1) * len(X)\n",
        "            print(f\"loss: {loss:>7f}  [{current:>5d}/{size:>5d}]\")\n",
        "\n",
        "    return train_loss/len(dataloader)\n",
        "\n",
        "def test_loop(dataloader, model, loss_fn):\n",
        "\n",
        "    model.eval()                    # set the model to evaluation mode for best practices\n",
        "\n",
        "    size        = len(dataloader.dataset)\n",
        "    num_batches = len(dataloader)\n",
        "    test_loss, correct = 0, 0\n",
        "\n",
        "    # Evaluating the model with torch.no_grad() ensures that no gradients are computed during test mode\n",
        "    # also serves to reduce unnecessary gradient computations and memory usage for tensors with requires_grad=True\n",
        "    with torch.no_grad():\n",
        "        for X, y in dataloader:\n",
        "            pred = model(X)\n",
        "            test_loss += loss_fn(pred, y).item()\n",
        "            correct += (pred.argmax(1) == y).type(torch.float).sum().item()\n",
        "\n",
        "    test_loss /= num_batches\n",
        "    correct /= size\n",
        "    print(f\"Test Error: \\n Accuracy: {(100*correct):>0.1f}%, Avg loss: {test_loss:>8f} \\n\")\n",
        "    return test_loss\n",
        "\n",
        "# Step 5: prepare the DataLoader and select your optimizer and set the hyper-parameters for learning the model from DataLoader\n",
        "#------------------------------------------------------------------------------------------------------------------------------\n",
        "\n",
        "learning_rate = 1e-3\n",
        "batch_size_val = 64\n",
        "epochs = 10\n",
        "loss_fn = nn.CrossEntropyLoss()\n",
        "optimizer = torch.optim.SGD(mlp_modelv2.parameters(), lr=learning_rate)\n",
        "\n",
        "train_dataloader = DataLoader(training_data, batch_size=batch_size_val)\n",
        "test_dataloader = DataLoader(test_data, batch_size=batch_size_val)\n",
        "\n",
        "\n",
        "train_losses = []\n",
        "test_losses  = []\n",
        "for t in range(epochs):\n",
        "    print(f\"Epoch {t+1}\\n-------------------------------\")\n",
        "    avg_train_loss = train_loop(train_dataloader, mlp_modelv2, loss_fn, optimizer)\n",
        "    avg_test_loss  = test_loop(test_dataloader, mlp_modelv2, loss_fn)\n",
        "    train_losses.append(avg_train_loss)\n",
        "    test_losses.append(avg_test_loss)\n",
        "print(\"SimpleMLPv2 model has been trained!\")\n"
      ],
      "metadata": {
        "colab": {
          "base_uri": "https://localhost:8080/"
        },
        "id": "TE6r3j-71vjK",
        "outputId": "8e63f7a1-814d-4b68-ae2a-208ea9708b8e"
      },
      "execution_count": null,
      "outputs": [
        {
          "output_type": "stream",
          "name": "stdout",
          "text": [
            "Epoch 1\n",
            "-------------------------------\n",
            "loss: 2.294133  [   64/60000]\n",
            "loss: 2.288227  [ 6464/60000]\n",
            "loss: 2.267519  [12864/60000]\n",
            "loss: 2.262677  [19264/60000]\n",
            "loss: 2.275559  [25664/60000]\n",
            "loss: 2.235278  [32064/60000]\n",
            "loss: 2.243355  [38464/60000]\n",
            "loss: 2.219200  [44864/60000]\n",
            "loss: 2.212216  [51264/60000]\n",
            "loss: 2.193032  [57664/60000]\n",
            "Test Error: \n",
            " Accuracy: 40.3%, Avg loss: 2.181462 \n",
            "\n",
            "Epoch 2\n",
            "-------------------------------\n",
            "loss: 2.184347  [   64/60000]\n",
            "loss: 2.181944  [ 6464/60000]\n",
            "loss: 2.128039  [12864/60000]\n",
            "loss: 2.143754  [19264/60000]\n",
            "loss: 2.126326  [25664/60000]\n",
            "loss: 2.064010  [32064/60000]\n",
            "loss: 2.093607  [38464/60000]\n",
            "loss: 2.029656  [44864/60000]\n",
            "loss: 2.032064  [51264/60000]\n",
            "loss: 1.985226  [57664/60000]\n",
            "Test Error: \n",
            " Accuracy: 60.5%, Avg loss: 1.968882 \n",
            "\n",
            "Epoch 3\n",
            "-------------------------------\n",
            "loss: 1.990529  [   64/60000]\n",
            "loss: 1.975553  [ 6464/60000]\n",
            "loss: 1.865408  [12864/60000]\n",
            "loss: 1.901831  [19264/60000]\n",
            "loss: 1.825291  [25664/60000]\n",
            "loss: 1.758916  [32064/60000]\n",
            "loss: 1.788699  [38464/60000]\n",
            "loss: 1.685747  [44864/60000]\n",
            "loss: 1.705584  [51264/60000]\n",
            "loss: 1.620299  [57664/60000]\n",
            "Test Error: \n",
            " Accuracy: 60.7%, Avg loss: 1.615488 \n",
            "\n",
            "Epoch 4\n",
            "-------------------------------\n",
            "loss: 1.674580  [   64/60000]\n",
            "loss: 1.643392  [ 6464/60000]\n",
            "loss: 1.487074  [12864/60000]\n",
            "loss: 1.552559  [19264/60000]\n",
            "loss: 1.441615  [25664/60000]\n",
            "loss: 1.422060  [32064/60000]\n",
            "loss: 1.443612  [38464/60000]\n",
            "loss: 1.354722  [44864/60000]\n",
            "loss: 1.391923  [51264/60000]\n",
            "loss: 1.305163  [57664/60000]\n",
            "Test Error: \n",
            " Accuracy: 62.8%, Avg loss: 1.314033 \n",
            "\n",
            "Epoch 5\n",
            "-------------------------------\n",
            "loss: 1.393009  [   64/60000]\n",
            "loss: 1.371777  [ 6464/60000]\n",
            "loss: 1.202334  [12864/60000]\n",
            "loss: 1.297700  [19264/60000]\n",
            "loss: 1.178379  [25664/60000]\n",
            "loss: 1.200896  [32064/60000]\n",
            "loss: 1.223529  [38464/60000]\n",
            "loss: 1.151481  [44864/60000]\n",
            "loss: 1.192863  [51264/60000]\n",
            "loss: 1.125105  [57664/60000]\n",
            "Test Error: \n",
            " Accuracy: 64.2%, Avg loss: 1.129542 \n",
            "\n",
            "Epoch 6\n",
            "-------------------------------\n",
            "loss: 1.204841  [   64/60000]\n",
            "loss: 1.204462  [ 6464/60000]\n",
            "loss: 1.021003  [12864/60000]\n",
            "loss: 1.145143  [19264/60000]\n",
            "loss: 1.018769  [25664/60000]\n",
            "loss: 1.056807  [32064/60000]\n",
            "loss: 1.091304  [38464/60000]\n",
            "loss: 1.026157  [44864/60000]\n",
            "loss: 1.067276  [51264/60000]\n",
            "loss: 1.016722  [57664/60000]\n",
            "Test Error: \n",
            " Accuracy: 65.1%, Avg loss: 1.013416 \n",
            "\n",
            "Epoch 7\n",
            "-------------------------------\n",
            "loss: 1.076440  [   64/60000]\n",
            "loss: 1.098737  [ 6464/60000]\n",
            "loss: 0.898727  [12864/60000]\n",
            "loss: 1.047816  [19264/60000]\n",
            "loss: 0.920339  [25664/60000]\n",
            "loss: 0.955712  [32064/60000]\n",
            "loss: 1.004926  [38464/60000]\n",
            "loss: 0.945285  [44864/60000]\n",
            "loss: 0.982068  [51264/60000]\n",
            "loss: 0.944857  [57664/60000]\n",
            "Test Error: \n",
            " Accuracy: 66.3%, Avg loss: 0.935040 \n",
            "\n",
            "Epoch 8\n",
            "-------------------------------\n",
            "loss: 0.983132  [   64/60000]\n",
            "loss: 1.026152  [ 6464/60000]\n",
            "loss: 0.811391  [12864/60000]\n",
            "loss: 0.980410  [19264/60000]\n",
            "loss: 0.855895  [25664/60000]\n",
            "loss: 0.881292  [32064/60000]\n",
            "loss: 0.943794  [38464/60000]\n",
            "loss: 0.890932  [44864/60000]\n",
            "loss: 0.920333  [51264/60000]\n",
            "loss: 0.892674  [57664/60000]\n",
            "Test Error: \n",
            " Accuracy: 67.6%, Avg loss: 0.878673 \n",
            "\n",
            "Epoch 9\n",
            "-------------------------------\n",
            "loss: 0.912181  [   64/60000]\n",
            "loss: 0.972076  [ 6464/60000]\n",
            "loss: 0.745542  [12864/60000]\n",
            "loss: 0.930651  [19264/60000]\n",
            "loss: 0.810678  [25664/60000]\n",
            "loss: 0.824641  [32064/60000]\n",
            "loss: 0.897691  [38464/60000]\n",
            "loss: 0.853121  [44864/60000]\n",
            "loss: 0.874048  [51264/60000]\n",
            "loss: 0.852550  [57664/60000]\n",
            "Test Error: \n",
            " Accuracy: 68.8%, Avg loss: 0.835944 \n",
            "\n",
            "Epoch 10\n",
            "-------------------------------\n",
            "loss: 0.855908  [   64/60000]\n",
            "loss: 0.928731  [ 6464/60000]\n",
            "loss: 0.694228  [12864/60000]\n",
            "loss: 0.892150  [19264/60000]\n",
            "loss: 0.776692  [25664/60000]\n",
            "loss: 0.780913  [32064/60000]\n",
            "loss: 0.860993  [38464/60000]\n",
            "loss: 0.825550  [44864/60000]\n",
            "loss: 0.838341  [51264/60000]\n",
            "loss: 0.820015  [57664/60000]\n",
            "Test Error: \n",
            " Accuracy: 69.8%, Avg loss: 0.802167 \n",
            "\n",
            "SimpleMLPv2 model has been trained!\n"
          ]
        }
      ]
    },
    {
      "cell_type": "code",
      "source": [
        "# visualizing the loss curves\n",
        "plt.plot(range(1,epochs+1), train_losses)\n",
        "plt.plot(range(1,epochs+1), test_losses)\n",
        "plt.title('Model average losses after each epoch')\n",
        "plt.ylabel('loss')\n",
        "plt.xlabel('epoch')\n",
        "plt.legend(['train', 'test'])\n",
        "plt.show()"
      ],
      "metadata": {
        "colab": {
          "base_uri": "https://localhost:8080/",
          "height": 472
        },
        "id": "msFTwSYwEwge",
        "outputId": "92d351e0-1816-44bb-d678-971ddce74911"
      },
      "execution_count": null,
      "outputs": [
        {
          "output_type": "display_data",
          "data": {
            "text/plain": [
              "<Figure size 640x480 with 1 Axes>"
            ],
            "image/png": "[encoded data removed]"
          },
          "metadata": {}
        }
      ]
    },
    {
      "cell_type": "code",
      "source": [
        "print(train_losses)\n",
        "print(test_losses)\n"
      ],
      "metadata": {
        "colab": {
          "base_uri": "https://localhost:8080/"
        },
        "id": "7y22SkYPFmnK",
        "outputId": "2a5737a4-c41e-4cf9-b752-c64289e9fbef"
      },
      "execution_count": null,
      "outputs": [
        {
          "output_type": "stream",
          "name": "stdout",
          "text": [
            "[2.2440662681420984, 2.086120819232103, 1.795051815794475, 1.4477942531296948, 1.2059248298851413, 1.0570951684959915, 0.960088520161887, 0.8924107513448069, 0.8424013738057761, 0.8036956771223276]\n",
            "[2.1814621360438644, 1.9688819791101346, 1.6154875785681853, 1.3140331749703473, 1.129541666644394, 1.0134158654577414, 0.935040329671969, 0.878672599412833, 0.8359441711644459, 0.8021669666858235]\n"
          ]
        }
      ]
    },
    {
      "cell_type": "markdown",
      "source": [
        "#__Group Exercise__:\n",
        "Create another MLP with 3 hidden layers and then train that model on the Fashion-MNIST dataset using the SGD optimizer with a batch size of 64. If time permits, you can also train another MLP with the ADAM optimizer and observe if there is any change in training."
      ],
      "metadata": {
        "id": "p9MmCZ0--f9D"
      }
    },
    {
      "cell_type": "code",
      "source": [
        "# Step 1: load the Torch library and other utilities\n",
        "#----------------------------------------------------\n"
      ],
      "metadata": {
        "id": "SVonqhsEQXl3"
      },
      "execution_count": null,
      "outputs": []
    },
    {
      "cell_type": "code",
      "source": [
        "# Step 2: load the dataset, ie, we are experimenting with Fashion-MNIST\n",
        "#--------------------------------------------------------------------------------------------------\n"
      ],
      "metadata": {
        "id": "kqJB4hncQdXm"
      },
      "execution_count": null,
      "outputs": []
    },
    {
      "cell_type": "code",
      "source": [
        "# Step 3: Create your MLP Network (call it SimpleMLPv3) with 3 hidden layers\n",
        "#--------------------------------------------------------------------------------------------------\n",
        "# You should have the following structure in your MLP\n",
        "#   num_of_neurons_input_layer      = 784\n",
        "#   num_of_neurons_1st_hidden_layer = 512\n",
        "#   num_of_neurons_2nd_hidden_layer = 256\n",
        "#   num_of_neurons_3rd_hidden_layer = 128\n",
        "#   num_of_neurons_output_layer     = 10\n",
        "# You should use ReLU activation function in each hidden layer"
      ],
      "metadata": {
        "id": "NEzPNtrrQfeP"
      },
      "execution_count": null,
      "outputs": []
    },
    {
      "cell_type": "code",
      "source": [
        "# Step 4: Your training and testing functions (I copied it previous the previous demo. You don't need to change anything)\n",
        "#--------------------------------------------------------------------------------------\n",
        "\n",
        "def train_loop(dataloader, model, loss_fn, optimizer):\n",
        "\n",
        "    size = len(dataloader.dataset)\n",
        "\n",
        "    model.train()                   # set the model to training mode for best practices\n",
        "\n",
        "    train_loss = 0\n",
        "\n",
        "    for batch, (X, y) in enumerate(dataloader):\n",
        "        # compute prediction and loss\n",
        "        pred = model(X)\n",
        "        loss = loss_fn(pred, y)\n",
        "\n",
        "        # Backpropagation\n",
        "        loss.backward()\n",
        "        optimizer.step()\n",
        "        optimizer.zero_grad()\n",
        "\n",
        "        train_loss += loss.item()\n",
        "\n",
        "        if batch % 100 == 0:\n",
        "            loss, current = loss.item(), (batch + 1) * len(X)\n",
        "            print(f\"loss: {loss:>7f}  [{current:>5d}/{size:>5d}]\")\n",
        "\n",
        "    return train_loss/len(dataloader)\n",
        "\n",
        "def test_loop(dataloader, model, loss_fn):\n",
        "\n",
        "    model.eval()                    # set the model to evaluation mode for best practices\n",
        "\n",
        "    size        = len(dataloader.dataset)\n",
        "    num_batches = len(dataloader)\n",
        "    test_loss, correct = 0, 0\n",
        "\n",
        "    # Evaluating the model with torch.no_grad() ensures that no gradients are computed during test mode\n",
        "    # also serves to reduce unnecessary gradient computations and memory usage for tensors with requires_grad=True\n",
        "    with torch.no_grad():\n",
        "        for X, y in dataloader:\n",
        "            pred = model(X)\n",
        "            test_loss += loss_fn(pred, y).item()\n",
        "            correct += (pred.argmax(1) == y).type(torch.float).sum().item()\n",
        "\n",
        "    test_loss /= num_batches\n",
        "    correct /= size\n",
        "    print(f\"Test Error: \\n Accuracy: {(100*correct):>0.1f}%, Avg loss: {test_loss:>8f} \\n\")\n",
        "    return test_loss\n"
      ],
      "metadata": {
        "id": "Yw6a5TByQklU"
      },
      "execution_count": null,
      "outputs": []
    },
    {
      "cell_type": "code",
      "source": [
        "# Step 5: prepare the DataLoader and select your optimizer and set the hyper-parameters for learning the model from DataLoader\n",
        "#------------------------------------------------------------------------------------------------------------------------------\n",
        "# Initialize your hyper-parameter and optimizer with appropriate values\n",
        "# Use your dataset to prepare your DataLoaders one for training_data and one for test_data\n",
        "# ...\n",
        "# ...\n",
        "\n",
        "print(\"SimpleMLPv3 model has been trained!\")\n"
      ],
      "metadata": {
        "colab": {
          "base_uri": "https://localhost:8080/"
        },
        "id": "tejagPCKQztY",
        "outputId": "fab4be71-01ca-4ebd-841f-f23a4383b282"
      },
      "execution_count": null,
      "outputs": [
        {
          "output_type": "stream",
          "name": "stdout",
          "text": [
            "SimpleMLPv3 model has been trained!\n"
          ]
        }
      ]
    },
    {
      "cell_type": "code",
      "source": [
        "# visualizing the loss curves\n"
      ],
      "metadata": {
        "id": "_0hoLrbIRQtk"
      },
      "execution_count": null,
      "outputs": []
    }
  ],
  "metadata": {
    "celltoolbar": "Slideshow",
    "kernelspec": {
      "display_name": "Python 3",
      "name": "python3"
    },
    "language_info": {
      "codemirror_mode": {
        "name": "ipython",
        "version": 3
      },
      "file_extension": ".py",
      "mimetype": "text/x-python",
      "name": "python",
      "nbconvert_exporter": "python",
      "pygments_lexer": "ipython3",
      "version": "3.8.3"
    },
    "colab": {
      "provenance": [],
      "gpuType": "T4",
      "include_colab_link": true
    },
    "accelerator": "GPU"
  },
  "nbformat": 4,
  "nbformat_minor": 0
}