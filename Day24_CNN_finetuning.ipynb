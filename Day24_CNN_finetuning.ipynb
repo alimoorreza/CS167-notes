{
  "cells": [
    {
      "cell_type": "markdown",
      "metadata": {
        "id": "view-in-github",
        "colab_type": "text"
      },
      "source": [
        "<a href=\"https://colab.research.google.com/github/alimoorreza/CS167-notes/blob/main/Day24_CNN_finetuning.ipynb\" target=\"_parent\"><img src=\"https://colab.research.google.com/assets/colab-badge.svg\" alt=\"Open In Colab\"/></a>"
      ]
    },
    {
      "cell_type": "markdown",
      "metadata": {
        "id": "HHJrUI0I4uVJ"
      },
      "source": [
        "# CS167: Day24\n",
        "## Deep Learning and Fine-tuning Convolutional Neural Network (CNN)\n",
        "\n",
        "#### CS167: Machine Learning, Fall 2023\n",
        "\n",
        "Tuesday, 28th, 2023\n",
        "\n",
        "\n",
        "📆 [Course Schedule](https://analytics.drake.edu/~reza/teaching/cs167_fall23/cs167_schedule.html) | 📜 [Syllabus](https://analytics.drake.edu/~reza/teaching/cs167_fall23/cs167_syllabus_fall23.pdf)\n"
      ]
    },
    {
      "cell_type": "markdown",
      "metadata": {
        "id": "OpvuEwrzrVe8"
      },
      "source": [
        "## __Put the Model on Training Device (GPU or CPU)__\n",
        "We want to accelerate the training process using graphical processing unit (GPU). Fortunately, in Colab we can access for GPU. You need to enable it from _Runtime-->Change runtime type-->GPU or TPU_"
      ]
    },
    {
      "cell_type": "code",
      "execution_count": null,
      "metadata": {
        "colab": {
          "base_uri": "https://localhost:8080/"
        },
        "id": "jFa7eTujrik7",
        "outputId": "4023f0e0-2dba-4e60-8937-d1571d0ed1da"
      },
      "outputs": [
        {
          "name": "stdout",
          "output_type": "stream",
          "text": [
            "Using cuda device\n"
          ]
        }
      ],
      "source": [
        "# check to see if torch.cuda is available, otherwise it will use CPU\n",
        "import torch\n",
        "import torch.nn as nn\n",
        "import torchtext\n",
        "import numpy as np\n",
        "device = (\n",
        "    \"cuda\"\n",
        "    if torch.cuda.is_available()\n",
        "    else \"cpu\"\n",
        ")\n",
        "print(f\"Using {device} device\")\n"
      ]
    },
    {
      "cell_type": "markdown",
      "metadata": {
        "id": "82757Boz0u5T"
      },
      "source": [
        "#__Load the Dataset for AlexNet__"
      ]
    },
    {
      "cell_type": "markdown",
      "metadata": {
        "id": "dDGk01A804vq"
      },
      "source": [
        "- [Bike-Cat-Dog-Person Dataset](https://analytics.drake.edu/~reza/teaching/cs167_fall23/dataset/bcdp_v1.zip)\n",
        "  - Each image size: __100x100x3__\n",
        "    - Note that these are color images\n",
        "  - Each image is associated with a label from __4 classes__\n",
        "  - Training set of __1500__ examples and test set of __300__ examples\n",
        "\n"
      ]
    },
    {
      "cell_type": "code",
      "execution_count": null,
      "metadata": {
        "colab": {
          "base_uri": "https://localhost:8080/"
        },
        "id": "2wepLktbnS7T",
        "outputId": "0bcbe00f-b814-47d2-b96a-e48333189136"
      },
      "outputs": [
        {
          "name": "stdout",
          "output_type": "stream",
          "text": [
            "Drive already mounted at /content/drive; to attempt to forcibly remount, call drive.mount(\"/content/drive\", force_remount=True).\n"
          ]
        }
      ],
      "source": [
        "from google.colab import drive\n",
        "drive.mount('/content/drive')"
      ]
    },
    {
      "cell_type": "markdown",
      "metadata": {
        "id": "5w26ZMYs1vL9"
      },
      "source": [
        "#__Prepare Your Data for Training__\n"
      ]
    },
    {
      "cell_type": "code",
      "execution_count": null,
      "metadata": {
        "colab": {
          "base_uri": "https://localhost:8080/"
        },
        "id": "-ng06Eq-rab8",
        "outputId": "5f669ee7-73ec-4aef-fa66-4d200c57a698"
      },
      "outputs": [
        {
          "name": "stdout",
          "output_type": "stream",
          "text": [
            "Size of train set: 1500\n",
            "Size of test set: 300\n"
          ]
        }
      ],
      "source": [
        "from torch.utils.data import DataLoader\n",
        "from torchvision import datasets\n",
        "from torchvision import transforms\n",
        "\n",
        "\n",
        "# For fine-tuning with an AlexNet/VGG/ResNet architecture that has been pre-trained using the ImageNet dataset, you need to normalize\n",
        "# each image with the given mean and standard deviation.\n",
        "transform = transforms.Compose([\n",
        "    transforms.Resize((227, 227)),\n",
        "    transforms.ToTensor(),\n",
        "    transforms.Normalize((.229, .224, .225), (.485, .456, .406)) # ImageNet: mean (R, G, B) and standard deviation (R, G, B)\n",
        "])\n",
        "\n",
        "\n",
        "train_dir       = '/content/drive/MyDrive/cs167_fall23/datasets/bcdp_v1/train'\n",
        "test_dir        = '/content/drive/MyDrive/cs167_fall23/datasets/bcdp_v1/test'\n",
        "\n",
        "train_dataset   = datasets.ImageFolder(train_dir, transform=transform)\n",
        "test_dataset    = datasets.ImageFolder(test_dir,  transform=transform)\n",
        "\n",
        "N_train         = len(train_dataset)\n",
        "N_test          = len(test_dataset)\n",
        "\n",
        "number_of_classes = 4\n",
        "\n",
        "print(\"Size of train set:\", N_train)\n",
        "print(\"Size of test set:\",  N_test)"
      ]
    },
    {
      "cell_type": "markdown",
      "metadata": {
        "id": "q4pTsgDsTEiw"
      },
      "source": [
        "#__Building Convolutional Neural Network (CNN)__\n",
        "\n",
        "Create a network class with two methods:\n",
        "- _init()_\n",
        "- _forward()_\n"
      ]
    },
    {
      "cell_type": "code",
      "execution_count": null,
      "metadata": {
        "id": "9DxGu6AUTW10"
      },
      "outputs": [],
      "source": [
        "import torch\n",
        "import torch.nn as nn\n",
        "from torchvision import models\n",
        "import pdb\n",
        "\n",
        "# You can give any name to your new network, e.g., AlexNet.\n",
        "# You should load the pretrained AlexNet model from torchvision.models.\n",
        "# This model was trained on over a million real-world images from ImageNet.\n",
        "# The idea is to bootstrap our CNN network weights with pretrained weights.\n",
        "# Our model will converge to a solution faster.\n",
        "# This training process is called 'fine-tuning.'\n",
        "\n",
        "\n",
        "class AlexNet(nn.Module):\n",
        "    def __init__(self, num_classes, pretrained=True):\n",
        "        super(AlexNet, self).__init__()\n",
        "        net = models.alexnet(pretrained=True)\n",
        "\n",
        "        # retained earlier convolutional and pooling layers from AlexNet\n",
        "        self.features   = net.features\n",
        "        self.avgpool    = net.avgpool\n",
        "\n",
        "        # added new fully connected layers\n",
        "        self.classifier = nn.Sequential(\n",
        "            nn.Linear(256 * 6 * 6, 4096),\n",
        "            nn.ReLU(True),\n",
        "            nn.Dropout(),\n",
        "            nn.Linear(4096, 512),\n",
        "            nn.ReLU(True),\n",
        "            nn.Dropout(),\n",
        "            nn.Linear(512, num_classes)\n",
        "        )\n",
        "\n",
        "\n",
        "    def forward(self, x):\n",
        "        #print(\"shape of input: \", x.shape)\n",
        "        x = self.features(x)\n",
        "        #print(\"output shape (self.features): \", x.shape)\n",
        "        x = self.avgpool(x)\n",
        "        #print(\"output shape (self.avgpool): \", x.shape)\n",
        "        x = torch.flatten(x, 1)\n",
        "        x = self.classifier(x)\n",
        "        #print(\"output shape (self.classifier): \", x.shape)\n",
        "        return x\n",
        "\n"
      ]
    },
    {
      "cell_type": "code",
      "execution_count": null,
      "metadata": {
        "colab": {
          "base_uri": "https://localhost:8080/"
        },
        "id": "ZlwRblRgmVlv",
        "outputId": "b9aae6ed-2a28-4222-87be-e153e8c78a19"
      },
      "outputs": [
        {
          "name": "stderr",
          "output_type": "stream",
          "text": [
            "/usr/local/lib/python3.10/dist-packages/torchvision/models/_utils.py:208: UserWarning: The parameter 'pretrained' is deprecated since 0.13 and may be removed in the future, please use 'weights' instead.\n",
            "  warnings.warn(\n",
            "/usr/local/lib/python3.10/dist-packages/torchvision/models/_utils.py:223: UserWarning: Arguments other than a weight enum or `None` for 'weights' are deprecated since 0.13 and may be removed in the future. The current behavior is equivalent to passing `weights=AlexNet_Weights.IMAGENET1K_V1`. You can also use `weights=AlexNet_Weights.DEFAULT` to get the most up-to-date weights.\n",
            "  warnings.warn(msg)\n"
          ]
        },
        {
          "name": "stdout",
          "output_type": "stream",
          "text": [
            "AlexNet(\n",
            "  (features): Sequential(\n",
            "    (0): Conv2d(3, 64, kernel_size=(11, 11), stride=(4, 4), padding=(2, 2))\n",
            "    (1): ReLU(inplace=True)\n",
            "    (2): MaxPool2d(kernel_size=3, stride=2, padding=0, dilation=1, ceil_mode=False)\n",
            "    (3): Conv2d(64, 192, kernel_size=(5, 5), stride=(1, 1), padding=(2, 2))\n",
            "    (4): ReLU(inplace=True)\n",
            "    (5): MaxPool2d(kernel_size=3, stride=2, padding=0, dilation=1, ceil_mode=False)\n",
            "    (6): Conv2d(192, 384, kernel_size=(3, 3), stride=(1, 1), padding=(1, 1))\n",
            "    (7): ReLU(inplace=True)\n",
            "    (8): Conv2d(384, 256, kernel_size=(3, 3), stride=(1, 1), padding=(1, 1))\n",
            "    (9): ReLU(inplace=True)\n",
            "    (10): Conv2d(256, 256, kernel_size=(3, 3), stride=(1, 1), padding=(1, 1))\n",
            "    (11): ReLU(inplace=True)\n",
            "    (12): MaxPool2d(kernel_size=3, stride=2, padding=0, dilation=1, ceil_mode=False)\n",
            "  )\n",
            "  (avgpool): AdaptiveAvgPool2d(output_size=(6, 6))\n",
            "  (classifier): Sequential(\n",
            "    (0): Linear(in_features=9216, out_features=4096, bias=True)\n",
            "    (1): ReLU(inplace=True)\n",
            "    (2): Dropout(p=0.5, inplace=False)\n",
            "    (3): Linear(in_features=4096, out_features=512, bias=True)\n",
            "    (4): ReLU(inplace=True)\n",
            "    (5): Dropout(p=0.5, inplace=False)\n",
            "    (6): Linear(in_features=512, out_features=4, bias=True)\n",
            "  )\n",
            ")\n"
          ]
        }
      ],
      "source": [
        "# check the structure of AlexNet\n",
        "\n",
        "cnn_model = AlexNet(number_of_classes)\n",
        "cnn_model.to(device)\n",
        "print(cnn_model)"
      ]
    },
    {
      "cell_type": "markdown",
      "metadata": {
        "id": "f1gTfGDJm-2Z"
      },
      "source": [
        "##__Defining Loss function__\n",
        "\n",
        "- [nn.CrossEntropyLoss()](https://pytorch.org/docs/stable/generated/torch.nn.CrossEntropyLoss.html#torch.nn.CrossEntropyLoss)\n",
        "  - useful when training a __classification problem__ with __C__ classes.\n",
        "  - criterion computes the cross entropy loss between input logits and target"
      ]
    },
    {
      "cell_type": "code",
      "execution_count": null,
      "metadata": {
        "id": "OK1bAAANnLMz"
      },
      "outputs": [],
      "source": [
        "# initialize the loss function\n",
        "loss_fn = nn.CrossEntropyLoss() # this is useful for multiclass classification task"
      ]
    },
    {
      "cell_type": "markdown",
      "metadata": {
        "id": "J6Mwh6U1mGev"
      },
      "source": [
        "##__Initializing the Optimizer__\n",
        "\n",
        "Optimiztaion, as we have discussed in previous week, is process of adjusting model parameters to reduce model error in each training step. PyTorch provides a selection of optimization algorithms in the [torch.optim](https://pytorch.org/docs/stable/optim.html) package. Some of them are as follows:\n",
        "- [torch.optim.SGD](https://pytorch.org/docs/stable/generated/torch.optim.SGD.html#torch.optim.SGD)\n",
        "- [torch.optim..Adam](https://pytorch.org/docs/stable/generated/torch.optim.Adam.html#torch.optim.Adam)\n",
        "- [torch.optim.RMSprop](https://pytorch.org/docs/stable/generated/torch.optim.RMSprop.html#torch.optim.RMSprop)\n",
        "\n",
        "In addition to selecting the optimizer, we can also select the yperparameters which are refered to as adjustable parameters crucial for controlling the model optimization process. You can influence the training and convergence of the model by tweaking these hyperparameters:\n",
        "- __epochs:__ denotes the number of iterations over the dataset\n",
        "- __batch size:__ represents the quantity of data samples in each iteration propagated through the network before updating the parameters\n",
        "- __learning rate:__ determines the extent of parameter updates made at each batch/epoch\n",
        "\n"
      ]
    },
    {
      "cell_type": "code",
      "execution_count": null,
      "metadata": {
        "id": "11-Lj-avlzFo"
      },
      "outputs": [],
      "source": [
        "learning_rate = 1e-4\n",
        "batch_size    = 32\n",
        "epochs        = 20\n",
        "# let's use ADAM optimization algorithm for training our model\n",
        "optimizer     = torch.optim.Adam(cnn_model.parameters(), lr=learning_rate)"
      ]
    },
    {
      "cell_type": "markdown",
      "metadata": {
        "id": "Z7yBVqvGmQM1"
      },
      "source": [
        "#__Putting Everything Together for AlexNet__"
      ]
    },
    {
      "cell_type": "markdown",
      "metadata": {
        "id": "Xn0KYm8r1i1i"
      },
      "source": [
        "__Putting Everything Together using our AlexNet Network on our 4-class image recognition Dataset__\n"
      ]
    },
    {
      "cell_type": "code",
      "execution_count": null,
      "metadata": {
        "colab": {
          "base_uri": "https://localhost:8080/",
          "height": 1000
        },
        "id": "TE6r3j-71vjK",
        "outputId": "ee90a2a5-a46c-4ed7-a6b0-e187b635cc6c"
      },
      "outputs": [
        {
          "name": "stdout",
          "output_type": "stream",
          "text": [
            "Using cuda device\n",
            "Size of train set: 1500\n",
            "Size of test set: 300\n",
            "AlexNet(\n",
            "  (features): Sequential(\n",
            "    (0): Conv2d(3, 64, kernel_size=(11, 11), stride=(4, 4), padding=(2, 2))\n",
            "    (1): ReLU(inplace=True)\n",
            "    (2): MaxPool2d(kernel_size=3, stride=2, padding=0, dilation=1, ceil_mode=False)\n",
            "    (3): Conv2d(64, 192, kernel_size=(5, 5), stride=(1, 1), padding=(2, 2))\n",
            "    (4): ReLU(inplace=True)\n",
            "    (5): MaxPool2d(kernel_size=3, stride=2, padding=0, dilation=1, ceil_mode=False)\n",
            "    (6): Conv2d(192, 384, kernel_size=(3, 3), stride=(1, 1), padding=(1, 1))\n",
            "    (7): ReLU(inplace=True)\n",
            "    (8): Conv2d(384, 256, kernel_size=(3, 3), stride=(1, 1), padding=(1, 1))\n",
            "    (9): ReLU(inplace=True)\n",
            "    (10): Conv2d(256, 256, kernel_size=(3, 3), stride=(1, 1), padding=(1, 1))\n",
            "    (11): ReLU(inplace=True)\n",
            "    (12): MaxPool2d(kernel_size=3, stride=2, padding=0, dilation=1, ceil_mode=False)\n",
            "  )\n",
            "  (avgpool): AdaptiveAvgPool2d(output_size=(6, 6))\n",
            "  (classifier): Sequential(\n",
            "    (0): Linear(in_features=9216, out_features=4096, bias=True)\n",
            "    (1): ReLU(inplace=True)\n",
            "    (2): Dropout(p=0.5, inplace=False)\n",
            "    (3): Linear(in_features=4096, out_features=512, bias=True)\n",
            "    (4): ReLU(inplace=True)\n",
            "    (5): Dropout(p=0.5, inplace=False)\n",
            "    (6): Linear(in_features=512, out_features=4, bias=True)\n",
            "  )\n",
            ")\n",
            "Epoch 1\n",
            "-------------------------------\n",
            "loss: 1.393557  [   32/ 1500]\n",
            "loss: 0.669242  [  352/ 1500]\n",
            "loss: 0.745021  [  672/ 1500]\n",
            "loss: 0.674433  [  992/ 1500]\n",
            "loss: 0.697224  [ 1312/ 1500]\n",
            "Confusion matrix for training set:\n",
            " [[ 77  35  22  16]\n",
            " [  5 500  86   9]\n",
            " [ 14  97 475  14]\n",
            " [  6  30  34  80]]\n",
            "Test Performance: \n",
            " Accuracy: 86.7%, Avg loss: 0.396799 \n",
            "\n",
            "Confusion matrix for test set:\n",
            " [[45  0  0  5]\n",
            " [ 0 76 19  5]\n",
            " [ 2  1 97  0]\n",
            " [ 2  1  5 42]]\n",
            "Epoch 2\n",
            "-------------------------------\n",
            "loss: 0.370976  [   32/ 1500]\n",
            "loss: 0.172205  [  352/ 1500]\n",
            "loss: 0.175804  [  672/ 1500]\n",
            "loss: 0.453877  [  992/ 1500]\n",
            "loss: 0.180258  [ 1312/ 1500]\n",
            "Confusion matrix for training set:\n",
            " [[138   3   2   7]\n",
            " [  2 541  50   7]\n",
            " [  3  51 540   6]\n",
            " [ 10  12   3 125]]\n",
            "Test Performance: \n",
            " Accuracy: 88.7%, Avg loss: 0.341161 \n",
            "\n",
            "Confusion matrix for test set:\n",
            " [[42  1  2  5]\n",
            " [ 0 84 14  2]\n",
            " [ 1  2 97  0]\n",
            " [ 0  2  5 43]]\n",
            "Epoch 3\n",
            "-------------------------------\n",
            "loss: 0.124803  [   32/ 1500]\n",
            "loss: 0.055855  [  352/ 1500]\n",
            "loss: 0.013675  [  672/ 1500]\n",
            "loss: 0.065730  [  992/ 1500]\n",
            "loss: 0.138320  [ 1312/ 1500]\n",
            "Confusion matrix for training set:\n",
            " [[145   1   0   4]\n",
            " [  1 589   9   1]\n",
            " [  1  16 580   3]\n",
            " [  1   4   3 142]]\n",
            "Test Performance: \n",
            " Accuracy: 94.0%, Avg loss: 0.222769 \n",
            "\n",
            "Confusion matrix for test set:\n",
            " [[46  0  0  4]\n",
            " [ 0 97  3  0]\n",
            " [ 1  3 96  0]\n",
            " [ 2  2  3 43]]\n",
            "Epoch 4\n",
            "-------------------------------\n",
            "loss: 0.039297  [   32/ 1500]\n",
            "loss: 0.019475  [  352/ 1500]\n",
            "loss: 0.004879  [  672/ 1500]\n",
            "loss: 0.013132  [  992/ 1500]\n",
            "loss: 0.009434  [ 1312/ 1500]\n",
            "Confusion matrix for training set:\n",
            " [[149   0   0   1]\n",
            " [  0 598   2   0]\n",
            " [  0   6 594   0]\n",
            " [  0   0   0 150]]\n",
            "Test Performance: \n",
            " Accuracy: 93.7%, Avg loss: 0.227353 \n",
            "\n",
            "Confusion matrix for test set:\n",
            " [[45  0  1  4]\n",
            " [ 0 96  4  0]\n",
            " [ 0  4 95  1]\n",
            " [ 0  3  2 45]]\n",
            "Epoch 5\n",
            "-------------------------------\n",
            "loss: 0.040926  [   32/ 1500]\n",
            "loss: 0.012448  [  352/ 1500]\n",
            "loss: 0.002764  [  672/ 1500]\n",
            "loss: 0.009173  [  992/ 1500]\n",
            "loss: 0.005527  [ 1312/ 1500]\n",
            "Confusion matrix for training set:\n",
            " [[149   0   0   1]\n",
            " [  0 599   1   0]\n",
            " [  0   1 599   0]\n",
            " [  2   0   0 148]]\n",
            "Test Performance: \n",
            " Accuracy: 91.7%, Avg loss: 0.370474 \n",
            "\n",
            "Confusion matrix for test set:\n",
            " [[38  0  1 11]\n",
            " [ 0 95  4  1]\n",
            " [ 1  3 96  0]\n",
            " [ 0  2  2 46]]\n",
            "Epoch 6\n",
            "-------------------------------\n",
            "loss: 0.023994  [   32/ 1500]\n",
            "loss: 0.000499  [  352/ 1500]\n",
            "loss: 0.001625  [  672/ 1500]\n",
            "loss: 0.008059  [  992/ 1500]\n",
            "loss: 0.114879  [ 1312/ 1500]\n",
            "Confusion matrix for training set:\n",
            " [[148   0   0   2]\n",
            " [  0 594   6   0]\n",
            " [  0   4 596   0]\n",
            " [  2   1   0 147]]\n",
            "Test Performance: \n",
            " Accuracy: 90.7%, Avg loss: 0.346222 \n",
            "\n",
            "Confusion matrix for test set:\n",
            " [[45  0  0  5]\n",
            " [ 0 86 14  0]\n",
            " [ 1  2 96  1]\n",
            " [ 0  1  4 45]]\n",
            "Epoch 7\n",
            "-------------------------------\n",
            "loss: 0.026778  [   32/ 1500]\n",
            "loss: 0.025900  [  352/ 1500]\n",
            "loss: 0.002041  [  672/ 1500]\n",
            "loss: 0.031147  [  992/ 1500]\n",
            "loss: 0.006406  [ 1312/ 1500]\n",
            "Confusion matrix for training set:\n",
            " [[150   0   0   0]\n",
            " [  0 598   2   0]\n",
            " [  0   2 598   0]\n",
            " [  0   0   0 150]]\n",
            "Test Performance: \n",
            " Accuracy: 92.7%, Avg loss: 0.344005 \n",
            "\n",
            "Confusion matrix for test set:\n",
            " [[45  0  0  5]\n",
            " [ 0 98  2  0]\n",
            " [ 2  7 90  1]\n",
            " [ 0  4  1 45]]\n",
            "Epoch 8\n",
            "-------------------------------\n",
            "loss: 0.018207  [   32/ 1500]\n",
            "loss: 0.000688  [  352/ 1500]\n",
            "loss: 0.003904  [  672/ 1500]\n",
            "loss: 0.169110  [  992/ 1500]\n",
            "loss: 0.000730  [ 1312/ 1500]\n",
            "Confusion matrix for training set:\n",
            " [[149   0   0   1]\n",
            " [  0 600   0   0]\n",
            " [  0   1 599   0]\n",
            " [  1   0   0 149]]\n",
            "Test Performance: \n",
            " Accuracy: 93.3%, Avg loss: 0.302028 \n",
            "\n",
            "Confusion matrix for test set:\n",
            " [[46  1  0  3]\n",
            " [ 0 96  4  0]\n",
            " [ 1  3 96  0]\n",
            " [ 2  2  4 42]]\n",
            "Epoch 9\n",
            "-------------------------------\n",
            "loss: 0.000269  [   32/ 1500]\n",
            "loss: 0.001089  [  352/ 1500]\n",
            "loss: 0.000917  [  672/ 1500]\n",
            "loss: 0.000090  [  992/ 1500]\n",
            "loss: 0.000577  [ 1312/ 1500]\n",
            "Confusion matrix for training set:\n",
            " [[150   0   0   0]\n",
            " [  0 600   0   0]\n",
            " [  0   2 598   0]\n",
            " [  0   0   0 150]]\n",
            "Test Performance: \n",
            " Accuracy: 90.7%, Avg loss: 0.370127 \n",
            "\n",
            "Confusion matrix for test set:\n",
            " [[43  0  1  6]\n",
            " [ 0 88 11  1]\n",
            " [ 1  3 95  1]\n",
            " [ 0  3  1 46]]\n",
            "Epoch 10\n",
            "-------------------------------\n",
            "loss: 0.000305  [   32/ 1500]\n",
            "loss: 0.000443  [  352/ 1500]\n",
            "loss: 0.000404  [  672/ 1500]\n",
            "loss: 0.010893  [  992/ 1500]\n",
            "loss: 0.003271  [ 1312/ 1500]\n",
            "Confusion matrix for training set:\n",
            " [[150   0   0   0]\n",
            " [  0 598   2   0]\n",
            " [  0   1 598   1]\n",
            " [  0   0   0 150]]\n",
            "Test Performance: \n",
            " Accuracy: 91.0%, Avg loss: 0.389087 \n",
            "\n",
            "Confusion matrix for test set:\n",
            " [[46  1  0  3]\n",
            " [ 0 97  3  0]\n",
            " [ 2  6 91  1]\n",
            " [ 4  5  2 39]]\n",
            "AlexNet model has been fine-tuned!\n",
            "Total fine-tuning time: 46.635 sec\n",
            "Total fine-tuning time: 0.013 hrs\n"
          ]
        },
        {
          "data": {
            "image/png": "[encoded data removed]",
            "text/plain": [
              "<Figure size 432x288 with 1 Axes>"
            ]
          },
          "metadata": {
            "needs_background": "light"
          },
          "output_type": "display_data"
        }
      ],
      "source": [
        "# Step 1: load the Torch library and other utilities\n",
        "#----------------------------------------------------\n",
        "\n",
        "import torch\n",
        "import torch.nn as nn\n",
        "import torch.optim as optim\n",
        "from torch.utils.data import DataLoader\n",
        "from torch.autograd import Variable\n",
        "from torchvision import transforms, datasets\n",
        "from torchvision import models\n",
        "from sklearn.metrics import confusion_matrix\n",
        "from sklearn.metrics import ConfusionMatrixDisplay\n",
        "import matplotlib.pyplot as plt\n",
        "import pandas\n",
        "import time\n",
        "import numpy as np\n",
        "import os\n",
        "import pdb\n",
        "\n",
        "# check to see if torch.cuda is available, otherwise it will use CPU\n",
        "device = (\n",
        "    \"cuda\"\n",
        "    if torch.cuda.is_available()\n",
        "    else \"cpu\"\n",
        ")\n",
        "print(f\"Using {device} device\")\n",
        "\n",
        "# os.environ[\"CUDA_VISIBLE_DEVICES\"]=\"0\"\n",
        "# Step 2: load the dataset\n",
        "#--------------------------------------------------------------------------------------------------\n",
        "# For fine-tuning with an AlexNet/VGG/ResNet architecture that has been pre-trained using the ImageNet dataset, you need to normalize\n",
        "# each image with the given mean and standard deviation.\n",
        "transform = transforms.Compose([\n",
        "    transforms.Resize((227, 227)),\n",
        "    transforms.ToTensor(),\n",
        "    transforms.Normalize((.229, .224, .225), (.485, .456, .406)) # ImageNet: mean (R, G, B) and standard deviation (R, G, B)\n",
        "])\n",
        "\n",
        "\n",
        "train_dir       = '/content/drive/MyDrive/cs167_fall23/datasets/bcdp_v1/train'\n",
        "test_dir        = '/content/drive/MyDrive/cs167_fall23/datasets/bcdp_v1/test'\n",
        "\n",
        "train_dataset   = datasets.ImageFolder(train_dir, transform=transform) # it loads images from the given directory, subsequently, classes are assigned labels according to the sorted order of the folder names.\n",
        "test_dataset    = datasets.ImageFolder(test_dir,  transform=transform) # it loads images from the given directory, subsequently, classes are assigned labels according to the sorted order of the folder names.\n",
        "\n",
        "N_train         = len(train_dataset)\n",
        "N_test          = len(test_dataset)\n",
        "\n",
        "number_of_classes = 4                    # Headsup! You should change this to the appropriate number when you fine-tune your model on a different dataset.\n",
        "\n",
        "print(\"Size of train set:\", N_train)\n",
        "print(\"Size of test set:\",  N_test)\n",
        "\n",
        "\n",
        "# Step 3: Use the AlexNet from above\n",
        "#--------------------------------------------------------------------------------------------------\n",
        "\n",
        "# You can give any name to your new network, e.g., AlexNet.\n",
        "# You should load the pretrained AlexNet model from torchvision.models.\n",
        "# This model was trained on over a million real-world images from ImageNet.\n",
        "# The idea is to bootstrap our CNN network weights with pretrained weights.\n",
        "# Our model will converge to a solution faster.\n",
        "# This training process is called 'fine-tuning.'\n",
        "\n",
        "\n",
        "class AlexNet(nn.Module):\n",
        "    def __init__(self, num_classes, pretrained=True):\n",
        "        super(AlexNet, self).__init__()\n",
        "        net = models.alexnet(pretrained=True)\n",
        "\n",
        "        # retained earlier convolutional and pooling layers from AlexNet\n",
        "        self.features   = net.features\n",
        "        self.avgpool    = net.avgpool\n",
        "\n",
        "        # added new fully connected layers\n",
        "        self.classifier = nn.Sequential(\n",
        "            nn.Linear(256 * 6 * 6, 4096),\n",
        "            nn.ReLU(True),\n",
        "            nn.Dropout(),\n",
        "            nn.Linear(4096, 512),\n",
        "            nn.ReLU(True),\n",
        "            nn.Dropout(),\n",
        "            nn.Linear(512, num_classes)\n",
        "        )\n",
        "\n",
        "\n",
        "    def forward(self, x):\n",
        "        #print(\"shape of input: \", x.shape)\n",
        "        x = self.features(x)\n",
        "        #print(\"output shape (self.features): \", x.shape)\n",
        "        x = self.avgpool(x)\n",
        "        #print(\"output shape (self.avgpool): \", x.shape)\n",
        "        x = torch.flatten(x, 1)\n",
        "        x = self.classifier(x)\n",
        "        #print(\"output shape (self.classifier): \", x.shape)\n",
        "        return x\n",
        "\n",
        "\n",
        "\n",
        "cnn_model = AlexNet(number_of_classes)\n",
        "cnn_model.to(device)\n",
        "print(cnn_model)\n",
        "\n",
        "\n",
        "# Step 4: Your training and testing functions\n",
        "#--------------------------------------------------------------------------------------\n",
        "\n",
        "def train_loop(dataloader, model, loss_fn, optimizer):\n",
        "\n",
        "    size            = len(dataloader.dataset)\n",
        "    num_batches     = len(dataloader)\n",
        "\n",
        "    model.train()                   # set the model to training mode for best practices\n",
        "\n",
        "    train_loss      = 0\n",
        "    correct         = 0\n",
        "    train_pred_all  = []\n",
        "    train_y_all     = []\n",
        "\n",
        "    for batch, (X, y) in enumerate(dataloader):\n",
        "        # compute prediction and loss\n",
        "\n",
        "        # ----------- putting data into gpu or sticking to cpu ----------\n",
        "        if torch.cuda.is_available():\n",
        "          X, y = Variable(X).cuda(), Variable(y).cuda()\n",
        "        else:\n",
        "          X, y = Variable(X), Variable(y)\n",
        "        # -----------                                         ----------\n",
        "\n",
        "        pred = model(X)\n",
        "        loss = loss_fn(pred, y)\n",
        "\n",
        "        # Backpropagation\n",
        "        loss.backward()\n",
        "        optimizer.step()\n",
        "        optimizer.zero_grad()\n",
        "\n",
        "        train_loss += loss.item()\n",
        "\n",
        "        if batch % 10 == 0:\n",
        "            loss, current = loss.item(), (batch + 1) * len(X)\n",
        "            print(f\"loss: {loss:>7f}  [{current:>5d}/{size:>5d}]\")\n",
        "\n",
        "        # compute the accuracy\n",
        "        pred_prob   = softmax(pred)\n",
        "        pred_y \t\t\t= torch.max(pred_prob, 1)[1]\n",
        "        train_correct = (pred_y == y).sum()\n",
        "        correct    += train_correct.data\n",
        "\n",
        "        train_pred_all.append(pred_y) # save predicted output for the current batch\n",
        "        train_y_all.append(y)         # save ground truth for the current batch\n",
        "\n",
        "    #pdb.set_trace()\n",
        "    train_pred_all = torch.cat(train_pred_all) # need to concatenate batch-wise appended items\n",
        "    train_y_all = torch.cat(train_y_all)\n",
        "\n",
        "    train_loss = train_loss/num_batches\n",
        "    correct    = correct.cpu().numpy()/size\n",
        "\n",
        "    print('Confusion matrix for training set:\\n', confusion_matrix(train_y_all.cpu().data, train_pred_all.cpu().data))\n",
        "    return train_loss, 100*correct\n",
        "\n",
        "\n",
        "def test_loop(dataloader, model, loss_fn):\n",
        "\n",
        "    model.eval()                    # set the model to evaluation mode for best practices\n",
        "\n",
        "    size                = len(dataloader.dataset)\n",
        "    num_batches         = len(dataloader)\n",
        "    test_loss, correct  = 0, 0\n",
        "    test_pred_all       = []\n",
        "    test_y_all          = []\n",
        "\n",
        "    # Evaluating the model with torch.no_grad() ensures that no gradients are computed during test mode\n",
        "    # also serves to reduce unnecessary gradient computations and memory usage for tensors with requires_grad=True\n",
        "    with torch.no_grad():\n",
        "\n",
        "      for X, y in dataloader:\n",
        "\n",
        "        # ----------- putting data into gpu or sticking to cpu ----------\n",
        "        if torch.cuda.is_available():\n",
        "          X, y = Variable(X).cuda(), Variable(y).cuda()\n",
        "        else:\n",
        "          X, y = Variable(X), Variable(y)\n",
        "        # -----------                                         ----------\n",
        "\n",
        "        pred = model(X)\n",
        "        test_loss += loss_fn(pred, y).item()\n",
        "\n",
        "        # calculate probability and save the outputs for confusion matrix computation\n",
        "        pred_prob     = softmax(pred)\n",
        "        pred_y        = torch.max(pred_prob, 1)[1]\n",
        "        test_correct  = (pred_y == y).sum()\n",
        "        correct      += test_correct.data\n",
        "\n",
        "        test_pred_all.append(pred_y) # save predicted output for the current batch\n",
        "        test_y_all.append(y)         # save ground truth for the current batch\n",
        "\n",
        "\n",
        "    #pdb.set_trace()\n",
        "    test_pred_all = torch.cat(test_pred_all)\n",
        "    test_y_all = torch.cat(test_y_all)\n",
        "\n",
        "    test_loss = test_loss/num_batches\n",
        "    correct   = correct.cpu().numpy()/size\n",
        "    print(f\"Test Performance: \\n Accuracy: {(100*correct):>0.1f}%, Avg loss: {test_loss:>8f} \\n\")\n",
        "    print('Confusion matrix for test set:\\n', confusion_matrix(test_y_all.cpu().data, test_pred_all.cpu().data))\n",
        "    return test_loss, 100*correct, confusion_matrix(test_y_all.cpu().data, test_pred_all.cpu().data)\n",
        "\n",
        "# Step 5: prepare the DataLoader and select your optimizer and set the hyper-parameters for learning the model from DataLoader\n",
        "#------------------------------------------------------------------------------------------------------------------------------\n",
        "\n",
        "learning_rate     = 1e-4\n",
        "batch_size_val    = 32\n",
        "epochs            = 10\n",
        "loss_fn           = nn.CrossEntropyLoss()\n",
        "optimizer         = torch.optim.Adam(cnn_model.parameters(), lr=learning_rate)\n",
        "softmax           = nn.Softmax(dim=1) # for calculating the probability of the network prediction. It is used in train_loop() and test_loop().\n",
        "\n",
        "train_dataloader  = DataLoader(train_dataset, batch_size=batch_size_val, shuffle=True)  # shuffle the images in training set during fine-tuning\n",
        "test_dataloader   = DataLoader(test_dataset, batch_size=batch_size_val,  shuffle=False) # you don't need to shuffle test images as they are not used during training\n",
        "\n",
        "\n",
        "train_losses = []\n",
        "test_losses  = []\n",
        "train_accuracies = []\n",
        "test_accuracies = []\n",
        "start_time = time.time()\n",
        "for t in range(epochs):\n",
        "    print(f\"Epoch {t+1}\\n-------------------------------\")\n",
        "    avg_train_loss, train_accuracy                    = train_loop(train_dataloader, cnn_model, loss_fn, optimizer)\n",
        "    avg_test_loss, test_accuracy, conf_matrix_test    = test_loop(test_dataloader,   cnn_model, loss_fn)\n",
        "    # save the losses and accuracies\n",
        "    train_losses.append(avg_train_loss)\n",
        "    test_losses.append(avg_test_loss)\n",
        "    train_accuracies.append(train_accuracy)\n",
        "    test_accuracies.append(test_accuracy)\n",
        "\n",
        "print(\"AlexNet model has been fine-tuned!\")\n",
        "print(\"Total fine-tuning time: %.3f sec\" %( (time.time()-start_time)) )\n",
        "print(\"Total fine-tuning time: %.3f hrs\" %( (time.time()-start_time)/3600) )\n",
        "\n",
        "# visualizing the loss curves\n",
        "plt.plot(range(1,epochs+1), train_losses)\n",
        "plt.plot(range(1,epochs+1), test_losses)\n",
        "plt.title('AlexNet average losses after each epoch')\n",
        "plt.ylabel('loss')\n",
        "plt.xlabel('epoch')\n",
        "plt.legend(['train', 'test'])\n",
        "plt.show()\n"
      ]
    },
    {
      "cell_type": "code",
      "execution_count": null,
      "metadata": {
        "colab": {
          "base_uri": "https://localhost:8080/",
          "height": 472
        },
        "id": "RHIIi0qm8vcZ",
        "outputId": "ed27a738-a58a-4bab-f565-15750424dd28"
      },
      "outputs": [
        {
          "data": {
            "image/png": "[encoded data removed]",
            "text/plain": [
              "<Figure size 432x288 with 1 Axes>"
            ]
          },
          "metadata": {
            "needs_background": "light"
          },
          "output_type": "display_data"
        }
      ],
      "source": [
        "# visualizing the accuracy curves\n",
        "\n",
        "plt.plot(range(1,epochs+1), train_accuracies)\n",
        "plt.plot(range(1,epochs+1), test_accuracies)\n",
        "plt.title('Model accuracies after each epoch')\n",
        "plt.ylabel('Accuracy')\n",
        "plt.xlabel('Epoch')\n",
        "plt.legend(['train', 'test'])\n",
        "plt.show()\n"
      ]
    },
    {
      "cell_type": "code",
      "execution_count": null,
      "metadata": {
        "id": "w6fHfzFT70A0",
        "outputId": "51bb803f-907d-42b9-a2ce-9a0ffc20c242"
      },
      "outputs": [
        {
          "name": "stdout",
          "output_type": "stream",
          "text": [
            "        bike  cat  dog  person\n",
            "bike      46    1    0       3\n",
            "cat        0   97    3       0\n",
            "dog        2    6   91       1\n",
            "person     4    5    2      39\n"
          ]
        },
        {
          "data": {
            "image/png": "[encoded data removed]",
            "text/plain": [
              "<Figure size 432x288 with 2 Axes>"
            ]
          },
          "metadata": {
            "needs_background": "light"
          },
          "output_type": "display_data"
        }
      ],
      "source": [
        "# visualizing the confusion matrix on the test set after the final epoch\n",
        "dataset_labels = ['bike', 'cat', 'dog', 'person'] # datasets.ImageFolder(): assigns labels according to the sorted order of the folder names\n",
        "\n",
        "# option #1: text\n",
        "print(pandas.DataFrame(conf_matrix_test, index = dataset_labels, columns = dataset_labels))\n",
        "\n",
        "# option #2: prettify\n",
        "displ = ConfusionMatrixDisplay(confusion_matrix=conf_matrix_test, display_labels=dataset_labels)\n",
        "displ.plot()\n",
        "plt.show()"
      ]
    },
    {
      "cell_type": "markdown",
      "metadata": {
        "id": "p9MmCZ0--f9D"
      },
      "source": [
        "#__Group Exercise__:\n",
        "Use AlexNet and then fine-tune that model on the given dataset of images. Make the necessary changes to the above-given code.\n",
        "- [Bike-Cat-Dog-Flower-Horse Dataset](https://analytics.drake.edu/~reza/teaching/cs167_fall23/dataset/bcdfh_v1.zip)"
      ]
    },
    {
      "cell_type": "code",
      "execution_count": null,
      "metadata": {
        "id": "SVonqhsEQXl3"
      },
      "outputs": [],
      "source": [
        "# Step 1: load the Torch library and other utilities\n",
        "#----------------------------------------------------\n",
        "\n"
      ]
    },
    {
      "cell_type": "code",
      "execution_count": null,
      "metadata": {
        "id": "kqJB4hncQdXm"
      },
      "outputs": [],
      "source": [
        "# Step 2: load the dataset\n",
        "#--------------------------------------------------------------------------------------------------\n"
      ]
    },
    {
      "cell_type": "code",
      "execution_count": null,
      "metadata": {
        "id": "NEzPNtrrQfeP"
      },
      "outputs": [],
      "source": [
        "# Step 3: Use the AlexNet from above\n",
        "#--------------------------------------------------------------------------------------------------\n"
      ]
    },
    {
      "cell_type": "code",
      "execution_count": null,
      "metadata": {
        "id": "Yw6a5TByQklU"
      },
      "outputs": [],
      "source": [
        "# Step 4: Your training and testing functions\n",
        "#--------------------------------------------------------------------------------------\n"
      ]
    },
    {
      "cell_type": "code",
      "execution_count": null,
      "metadata": {
        "id": "tejagPCKQztY"
      },
      "outputs": [],
      "source": [
        "## Step 5: select your optimizer and set the hyper-parameters for learning the model\n",
        "#------------------------------------------------------------------------------------------------------------------------------\n"
      ]
    }
  ],
  "metadata": {
    "accelerator": "GPU",
    "celltoolbar": "Slideshow",
    "colab": {
      "gpuType": "T4",
      "provenance": [],
      "include_colab_link": true
    },
    "kernelspec": {
      "display_name": "Python 3",
      "language": "python",
      "name": "python3"
    },
    "language_info": {
      "codemirror_mode": {
        "name": "ipython",
        "version": 3
      },
      "file_extension": ".py",
      "mimetype": "text/x-python",
      "name": "python",
      "nbconvert_exporter": "python",
      "pygments_lexer": "ipython3",
      "version": "3.6.10"
    }
  },
  "nbformat": 4,
  "nbformat_minor": 0
}