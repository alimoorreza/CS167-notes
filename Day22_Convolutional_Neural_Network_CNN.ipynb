{
  "cells": [
    {
      "cell_type": "markdown",
      "metadata": {
        "id": "view-in-github",
        "colab_type": "text"
      },
      "source": [
        "<a href=\"https://colab.research.google.com/github/alimoorreza/CS167-notes/blob/main/Day22_Convolutional_Neural_Network_CNN.ipynb\" target=\"_parent\"><img src=\"https://colab.research.google.com/assets/colab-badge.svg\" alt=\"Open In Colab\"/></a>"
      ]
    },
    {
      "cell_type": "markdown",
      "metadata": {
        "id": "HHJrUI0I4uVJ"
      },
      "source": [
        "# CS167: Day22\n",
        "## Deep Learning and Convolutional Neural Network (CNN)\n",
        "\n",
        "#### CS167: Machine Learning, Fall 2023\n",
        "\n",
        "Tuesday, 21th, 2023\n",
        "\n",
        "\n",
        "📆 [Course Schedule](https://analytics.drake.edu/~reza/teaching/cs167_fall23/cs167_schedule.html) | 📜 [Syllabus](https://analytics.drake.edu/~reza/teaching/cs167_fall23/cs167_syllabus_fall23.pdf)\n"
      ]
    },
    {
      "cell_type": "code",
      "source": [
        "# import torch library\n",
        "import torch\n",
        "import torch.nn as nn\n",
        "import numpy as np"
      ],
      "metadata": {
        "id": "LwgBlHEvJDEJ"
      },
      "execution_count": null,
      "outputs": []
    },
    {
      "cell_type": "markdown",
      "source": [
        "## __Put the Model on Training Device (GPU or CPU)__\n",
        "We want to accelerate the training process using graphical processing unit (GPU). Fortunately, in Colab we can access for GPU. You need to enable it from _Runtime-->Change runtime type-->GPU or TPU_"
      ],
      "metadata": {
        "id": "OpvuEwrzrVe8"
      }
    },
    {
      "cell_type": "code",
      "source": [
        "# check to see if torch.cuda is available, otherwise it will use CPU\n",
        "import torch\n",
        "import torch.nn as nn\n",
        "import numpy as np\n",
        "device = (\n",
        "    \"cuda\"\n",
        "    if torch.cuda.is_available()\n",
        "    else \"cpu\"\n",
        ")\n",
        "print(f\"Using {device} device\")\n"
      ],
      "metadata": {
        "colab": {
          "base_uri": "https://localhost:8080/"
        },
        "id": "jFa7eTujrik7",
        "outputId": "2e011a83-75a7-4400-ec80-4df2ec7f8472"
      },
      "execution_count": null,
      "outputs": [
        {
          "output_type": "stream",
          "name": "stdout",
          "text": [
            "Using cpu device\n"
          ]
        }
      ]
    },
    {
      "cell_type": "markdown",
      "source": [
        "#__Load the Dataset for your CNN__"
      ],
      "metadata": {
        "id": "82757Boz0u5T"
      }
    },
    {
      "cell_type": "markdown",
      "source": [
        "We can easily import some [built-in datasets](https://pytorch.org/vision/stable/datasets.html) from PyTorch's [torchvision.datasets](torchvision.datasets) module\n",
        "- [Fashion-MNIST](https://github.com/zalandoresearch/fashion-mnist)\n",
        "  - each image size: 28x28 grayscale image\n",
        "  - each image is associated with a label from __10 classes__\n",
        "  - training set of 60,000 examples and a test set of 10,000 examples\n",
        "\n",
        "<div>\n",
        "<img src=\"https://analytics.drake.edu/~reza/teaching/cs167_fall23/notes/images/fashion-mnist-sprite.png\" width=500/>\n",
        "</div>\n"
      ],
      "metadata": {
        "id": "dDGk01A804vq"
      }
    },
    {
      "cell_type": "code",
      "source": [
        "import torch\n",
        "from torch.utils.data import Dataset\n",
        "from torchvision import datasets # torchvision has many deep learning benchmark datasets Fashion-MNIST, CIFAR-10, Caltech-50, etc\n",
        "from torchvision.transforms import ToTensor\n",
        "import matplotlib.pyplot as plt\n",
        "\n",
        "\n",
        "training_data = datasets.FashionMNIST(\n",
        "    root=\"/content/drive/MyDrive/cs167_fall23/datasets\",\n",
        "    train=True,\n",
        "    download=True,\n",
        "    transform=ToTensor() # specify the feature and label transformations\n",
        ")\n",
        "\n",
        "test_data = datasets.FashionMNIST(\n",
        "    root=\"/content/drive/MyDrive/cs167_fall23/datasets\",\n",
        "    train=False,\n",
        "    download=True,\n",
        "    transform=ToTensor()\n",
        ")"
      ],
      "metadata": {
        "id": "4kz7QVYF1ECa"
      },
      "execution_count": null,
      "outputs": []
    },
    {
      "cell_type": "markdown",
      "source": [
        "__Explore some sample training images__"
      ],
      "metadata": {
        "id": "3rcoqtTu1JH9"
      }
    },
    {
      "cell_type": "code",
      "source": [
        "# Visualize a random set of images and their the labels from the training split\n",
        "# The following labels represent 10 classes, each with specific indices as defined by the creator of the Fashion-MNIST dataset\n",
        "# reference: https://github.com/zalandoresearch/fashion-mnist#labels\n",
        "labels_map = {\n",
        "    0: \"T-Shirt\",\n",
        "    1: \"Trouser\",\n",
        "    2: \"Pullover\",\n",
        "    3: \"Dress\",\n",
        "    4: \"Coat\",\n",
        "    5: \"Sandal\",\n",
        "    6: \"Shirt\",\n",
        "    7: \"Sneaker\",\n",
        "    8: \"Bag\",\n",
        "    9: \"Ankle Boot\",\n",
        "}\n",
        "figure = plt.figure(figsize=(5, 5))\n",
        "cols, rows = 5, 2\n",
        "for i in range(1, cols * rows + 1):\n",
        "    sample_idx = torch.randint(len(training_data), size=(1,)).item()\n",
        "    img, label = training_data[sample_idx]\n",
        "    figure.add_subplot(rows, cols, i)\n",
        "    plt.title(labels_map[label])\n",
        "    plt.axis(\"off\")\n",
        "    #print('image tensor size:', img.shape)\n",
        "    plt.imshow(img.squeeze(), cmap=\"gray\") # .squeeze() method removes the '1' from first dimension of the tensor [1, 28, 28]\n",
        "    #print('after removing the first dimension with ', img.squeeze().shape)\n",
        "plt.show()"
      ],
      "metadata": {
        "id": "rNVp5mR51Lo5"
      },
      "execution_count": null,
      "outputs": []
    },
    {
      "cell_type": "markdown",
      "source": [
        "##__Prepare Your Data with DataLoader for Training/Testing__\n",
        "We just explored one sample of data at a time. As we have seen in our discussion of the optimizer, specifically __Stochastic Gradient Descent (SGD)__, during training your network, we may need to pass them in __minibatches__. PyTorch has a module called __DataLoader__, which will do this automatically for us as long as we provide the right arguments:\n",
        "- prepare the __minibatches__ with the given _batch_size_ eg 16, 32, 64, 128, etc\n",
        "- multiprocessing to speed up the data retrieval\n",
        "- reshuffle the data at every __epoch__\n"
      ],
      "metadata": {
        "id": "5w26ZMYs1vL9"
      }
    },
    {
      "cell_type": "code",
      "source": [
        "from torch.utils.data import DataLoader\n",
        "#                              pairs of items,   minibatch size,      random shuffling turned ON\n",
        "train_dataloader = DataLoader(training_data,     batch_size=128,        shuffle=True)\n",
        "test_dataloader  = DataLoader(test_data,         batch_size=128,        shuffle=False) # for testing/inference: it is not necessary to shuffle\n",
        "\n",
        "# explore the data from the train_dataloader\n",
        "train_inputs, train_labels = next(iter(train_dataloader)) # returns a batch of 128 train-images and train-labels\n",
        "print(f\"Images batch shape: {train_inputs.shape}\")\n",
        "print(f\"Labels batch shape: {train_labels.shape}\")\n",
        "\n",
        "# visualize one of the samples in this batch of 128\n",
        "figure = plt.figure(figsize=(2, 2))\n",
        "img = train_inputs[127].squeeze() # I picked 127 but you can pick any index in between 0 to batch_size=128\n",
        "label = train_labels[127]         # It's a tensor datatype\n",
        "plt.title(labels_map[int(label)]) # For indexing, convert the 'tensor' datatype --> integer number datatype\n",
        "plt.imshow(img, cmap=\"gray\")\n",
        "plt.show()\n",
        "print(f\"Label: {label}\")"
      ],
      "metadata": {
        "id": "x9hHtMpu130p"
      },
      "execution_count": null,
      "outputs": []
    },
    {
      "cell_type": "markdown",
      "source": [
        "#__Building Convolutional Neural Network (CNN)__\n",
        "\n",
        "Create a network class with two methods:\n",
        "- _init()_\n",
        "- _forward()_\n"
      ],
      "metadata": {
        "id": "q4pTsgDsTEiw"
      }
    },
    {
      "cell_type": "code",
      "source": [
        "import torch\n",
        "from torch import nn\n",
        "\n",
        "# You can give any name to your new network, e.g., SimpleCNN.\n",
        "# However, you have to mandatorily inherit from nn.Module to\n",
        "# create your own network class. That way, you can access a lot of\n",
        "# useful methods and attributes from the parent class nn.Module\n",
        "\n",
        "class SimpleCNN(nn.Module):\n",
        "  def __init__(self):\n",
        "    super().__init__()\n",
        "    # your network layer construction should take place here\n",
        "    # ...\n",
        "    # ...\n",
        "\n",
        "  def forward(self, x):\n",
        "    # your code for MLP forward pass should take place here\n",
        "    # ...\n",
        "    # ...\n",
        "    return x"
      ],
      "metadata": {
        "id": "9DxGu6AUTW10"
      },
      "execution_count": null,
      "outputs": []
    },
    {
      "cell_type": "markdown",
      "source": [
        "Let's create the CNN as shown in the picture above using this template. In general, we will follow this template for constructing other neural networks such as MLP, CNN, RNN, and Transformer in PyTorch. Hence, it is a very generic setup. Here are the useful PyTorch modules we will be using for CNN construction:\n",
        "- [nn.Conv2d()](https://pytorch.org/docs/stable/generated/torch.nn.Conv2d.html)\n",
        "  - applies a 2D convolution over an input volume of $(C_{in}​,H_{in},W_{in})$ and produces an output volume of $(C_{out}​,H_{out},W_{out})$   between two adjacent layers.\n",
        "  - to create this, you need to provide the followings:\n",
        "    - __channel_dimension_of_input_layer__ i.e., $C_{in}$\n",
        "    - __channel_dimension_of_output_layer__ i.e., $C_{out}$\n",
        "    - __filter_size__ i.e., $F$\n",
        "\n",
        "  - the other two optional parameters are __stride__: $S=1$ and __padding__: $P=0$, with default values as shown. As discussed in class, PyTorch will calculate internally the sizes of output volume $H_{out}$ and $W_{out}$ from the above mentioned parameter values\n",
        "\n",
        "<div>\n",
        "<img src=\"https://analytics.drake.edu/~reza/teaching/cs167_fall23/notes/images/convolution-animation-3x3-kernel\" width=800/>\n",
        "</div>\n",
        "\n",
        "[Source of this excellent visualization that vividly illustrates the proces](https://animatedai.github.io/)\n"
      ],
      "metadata": {
        "id": "ww0jFonlZh4U"
      }
    },
    {
      "cell_type": "code",
      "source": [
        "import torch\n",
        "from torch import nn\n",
        "import pdb\n",
        "\n",
        "class SimpleCNNv1(nn.Module):\n",
        "  def __init__(self):\n",
        "    super().__init__()\n",
        "    # your network layer construction should take place here\n",
        "\n",
        "    input_volume_channel_first      = 1\n",
        "    output_volume_channel_first     = 32\n",
        "    input_volume_channel_second     = 32\n",
        "    output_volume_channel_second    = 64\n",
        "    num_of_neurons_output_layer     = 10 # usually this number should be equal to the total number of classes in your classification task\n",
        "\n",
        "    # Beginning layers: a series of 2D convolutional layers (useful for feature map learning from the grid layouts of an image)\n",
        "    self.first_conv_2d              = nn.Conv2d(input_volume_channel_first, output_volume_channel_first, 3)  # 2D convolutional transformation module :input_volume_channel=1, output_volume_channel=32, filter_size= (3x3)\n",
        "    self.relu_activation_1st        = nn.ReLU()\n",
        "    self.second_conv_2d             = nn.Conv2d(input_volume_channel_second, output_volume_channel_second, 3) # 2D convolutional transformation module :input_volume_channel=32, output_volume_channel=64, filter_size= (3x3)\n",
        "    self.relu_activation_2nd        = nn.ReLU()\n",
        "\n",
        "    # --------------------------------------------------------------------------\n",
        "    # -------                 heads up!                                 --------\n",
        "    # you need to calculate the total_size_of_the_output_volume of your self.second_conv_2d layer,\n",
        "    # as it will be needed by the upcoming nn.Linear(). This number will be used as the first argument for the next nn.Linear().\n",
        "    # I pre-calculated this number, and it is 64*24*24 = 36864. I will plug this number in the next layer\n",
        "    # --------------------------------------------------------------------------\n",
        "\n",
        "    # End layers: a series of dense linear layers (almost like an MLP for final classification)\n",
        "    self.first_linear_layer         = nn.Linear(64*24*24, 128)  # linear transformation module (input=64*24*24, output=128)\n",
        "    self.relu_activation_3rd        = nn.ReLU()\n",
        "    self.output_layer               = nn.Linear(128, num_of_neurons_output_layer) # linear transformation module (input=128, output=10)\n",
        "\n",
        "\n",
        "  def forward(self, x):\n",
        "    # your code for Conv_2d forward pass should take place here\n",
        "    output = self.first_conv_2d(x)\n",
        "    output = self.relu_activation_1st(output)\n",
        "    print('first_conv_2d output feature map size: ', output.shape)\n",
        "    output = self.second_conv_2d(output)\n",
        "    output = self.relu_activation_2nd(output)\n",
        "    print('second_conv_2d output feature map size: ', output.shape)\n",
        "\n",
        "    output = torch.flatten(output, 0)\n",
        "\n",
        "    # your code for MLP forward pass should take place here\n",
        "    output = self.first_linear_layer(output)\n",
        "    print('first linear layer feature map shape: ', output.shape)\n",
        "    output = self.relu_activation_3rd(output)\n",
        "    output = self.output_layer(output)\n",
        "    print('Output linear layer feature map shape: ', output.shape)\n",
        "\n",
        "\n",
        "    return output\n"
      ],
      "metadata": {
        "id": "HNuxDcIFYjY6"
      },
      "execution_count": 59,
      "outputs": []
    },
    {
      "cell_type": "code",
      "source": [
        "# check the structure of your MLP\n",
        "cnn_model = SimpleCNNv1()\n",
        "print(cnn_model)"
      ],
      "metadata": {
        "colab": {
          "base_uri": "https://localhost:8080/"
        },
        "id": "ZlwRblRgmVlv",
        "outputId": "1ee65555-ee94-482e-bb2c-35503310e806"
      },
      "execution_count": 60,
      "outputs": [
        {
          "output_type": "stream",
          "name": "stdout",
          "text": [
            "SimpleCNNv1(\n",
            "  (first_conv_2d): Conv2d(1, 32, kernel_size=(3, 3), stride=(1, 1))\n",
            "  (relu_activation_1st): ReLU()\n",
            "  (second_conv_2d): Conv2d(32, 64, kernel_size=(3, 3), stride=(1, 1))\n",
            "  (relu_activation_2nd): ReLU()\n",
            "  (first_linear_layer): Linear(in_features=36864, out_features=128, bias=True)\n",
            "  (relu_activation_3rd): ReLU()\n",
            "  (output_layer): Linear(in_features=128, out_features=10, bias=True)\n",
            ")\n"
          ]
        }
      ]
    },
    {
      "cell_type": "code",
      "source": [
        "# check the sizes of weights and biases of your MLP's 1st hidden layers\n",
        "print('size of weights of first_hidden_layer: \\n ', cnn_model.first_conv_2d.weight.shape)\n",
        "print('size of bias of first_hidden_layer: \\n ', cnn_model.first_conv_2d.bias.shape)"
      ],
      "metadata": {
        "colab": {
          "base_uri": "https://localhost:8080/"
        },
        "id": "5q0AlCh4vcDh",
        "outputId": "03c28faf-e317-48e5-e245-bf415e463019"
      },
      "execution_count": 54,
      "outputs": [
        {
          "output_type": "stream",
          "name": "stdout",
          "text": [
            "size of weights of first_hidden_layer: \n",
            "  torch.Size([32, 1, 3, 3])\n",
            "size of bias of first_hidden_layer: \n",
            "  torch.Size([32])\n"
          ]
        }
      ]
    },
    {
      "cell_type": "code",
      "source": [
        "# check the randomly initialized values of weights and biases of your MLP's 1st hidden layers\n",
        "print('weights of first_conv_2d.weight: \\n ', cnn_model.first_conv_2d.weight)\n",
        "print('bias of first_conv_2d.weight: \\n ', cnn_model.first_conv_2d.bias)"
      ],
      "metadata": {
        "id": "8-WYre5Fu5qZ"
      },
      "execution_count": null,
      "outputs": []
    },
    {
      "cell_type": "markdown",
      "source": [
        "#__Forward Pass using your Dataset and your CNN__\n",
        "Test a forward pass of our first CNN using one of the training samples.\n",
        "The forward method inside our network class, __SimpleCNNv1__, will be invoked if we provide an input tensor __X__ to the network object we instantiated earlier, i.e., __cnn_model__, as follows:\n",
        "- _output = cnn_model(X)_\n",
        "\n",
        "Finally, we convert the ouput from the model into probabilities using __Softmax()__ module:\n",
        "- _pred_probab = softmax_activation(output)_\n",
        "\n"
      ],
      "metadata": {
        "id": "HGToEDVFl9rQ"
      }
    },
    {
      "cell_type": "code",
      "source": [
        "img   = train_inputs[100] # I picked 100 but you can pick any index in between 0 to batch_size=128\n",
        "label = train_labels[100]\n",
        "\n",
        "softmax_activation = nn.Softmax(dim=0)\n",
        "\n",
        "print('shape of X: ', img.shape)\n",
        "output      = cnn_model(img)                # last layer of our network will return 10 values each will range in between in [-infty, infty]\n",
        "pred_probab = softmax_activation(output)   # these raw numbers scaled to values [0, 1] representing the model’s predicted probabilities for each class\n",
        "print('predited probability \\n', pred_probab)\n",
        "y_pred      = pred_probab.argmax()\n",
        "print(f\"Predicted class: {y_pred}\")\n"
      ],
      "metadata": {
        "colab": {
          "base_uri": "https://localhost:8080/"
        },
        "id": "7OQed_nsazcw",
        "outputId": "21526ff0-4a96-435a-ba9f-86b041a9ad9b"
      },
      "execution_count": 61,
      "outputs": [
        {
          "output_type": "stream",
          "name": "stdout",
          "text": [
            "shape of X:  torch.Size([1, 28, 28])\n",
            "first_conv_2d output feature map size:  torch.Size([32, 26, 26])\n",
            "second_conv_2d output feature map size:  torch.Size([64, 24, 24])\n",
            "first linear layer feature map shape:  torch.Size([128])\n",
            "Output linear layer feature map shape:  torch.Size([10])\n",
            "predited probability \n",
            " tensor([0.1045, 0.0968, 0.1049, 0.1040, 0.1037, 0.0956, 0.0984, 0.1012, 0.0988,\n",
            "        0.0920], grad_fn=<SoftmaxBackward0>)\n",
            "Predicted class: 2\n"
          ]
        }
      ]
    },
    {
      "cell_type": "code",
      "source": [
        "# model parameter counts to find out how many parameter this model will learn from the data\n",
        "for name, param in cnn_model.named_parameters():\n",
        "    print(f\"Layer: {name} | Size: {param.size()} \\n\")\n"
      ],
      "metadata": {
        "colab": {
          "base_uri": "https://localhost:8080/"
        },
        "id": "XCqis2b5kU8A",
        "outputId": "3aeb077b-5222-4397-841a-58aecf46f037"
      },
      "execution_count": 62,
      "outputs": [
        {
          "output_type": "stream",
          "name": "stdout",
          "text": [
            "Layer: first_conv_2d.weight | Size: torch.Size([32, 1, 3, 3]) \n",
            "\n",
            "Layer: first_conv_2d.bias | Size: torch.Size([32]) \n",
            "\n",
            "Layer: second_conv_2d.weight | Size: torch.Size([64, 32, 3, 3]) \n",
            "\n",
            "Layer: second_conv_2d.bias | Size: torch.Size([64]) \n",
            "\n",
            "Layer: first_linear_layer.weight | Size: torch.Size([128, 36864]) \n",
            "\n",
            "Layer: first_linear_layer.bias | Size: torch.Size([128]) \n",
            "\n",
            "Layer: output_layer.weight | Size: torch.Size([10, 128]) \n",
            "\n",
            "Layer: output_layer.bias | Size: torch.Size([10]) \n",
            "\n"
          ]
        }
      ]
    },
    {
      "cell_type": "markdown",
      "source": [
        "##__Defining Loss function__\n",
        "\n",
        "- [nn.CrossEntropyLoss()](https://pytorch.org/docs/stable/generated/torch.nn.CrossEntropyLoss.html#torch.nn.CrossEntropyLoss)\n",
        "  - useful when training a __classification problem__ with __C__ classes.\n",
        "  - criterion computes the cross entropy loss between input logits and target\n",
        "- [nn.MSELoss()](https://pytorch.org/docs/stable/generated/torch.nn.MSELoss.html#torch.nn.MSELoss)\n",
        "  - useful when training a __regression problem__\n",
        "  - criterion that measures the mean squared error (squared L2 norm) between each element in the input _x_ and target _y_\n"
      ],
      "metadata": {
        "id": "f1gTfGDJm-2Z"
      }
    },
    {
      "cell_type": "code",
      "source": [
        "# initialize the loss function\n",
        "loss_fn = nn.CrossEntropyLoss() # this is useful for multiclass classification task"
      ],
      "metadata": {
        "id": "OK1bAAANnLMz"
      },
      "execution_count": 63,
      "outputs": []
    },
    {
      "cell_type": "markdown",
      "source": [
        "##__Initializing the Optimizer__\n",
        "\n",
        "Optimiztaion, as we have discussed in previous week, is process of adjusting model parameters to reduce model error in each training step. PyTorch provides a selection of optimization algorithms in the [torch.optim](https://pytorch.org/docs/stable/optim.html) package. Some of them are as follows:\n",
        "- [torch.optim.SGD](https://pytorch.org/docs/stable/generated/torch.optim.SGD.html#torch.optim.SGD)\n",
        "- [torch.optim..Adam](https://pytorch.org/docs/stable/generated/torch.optim.Adam.html#torch.optim.Adam)\n",
        "- [torch.optim.RMSprop](https://pytorch.org/docs/stable/generated/torch.optim.RMSprop.html#torch.optim.RMSprop)\n",
        "\n",
        "In addition to selecting the optimizer, we can also select the yperparameters which are refered to as adjustable parameters crucial for controlling the model optimization process. You can influence the training and convergence of the model by tweaking these hyperparameters:\n",
        "- __epochs:__ denotes the number of iterations over the dataset\n",
        "- __batch size:__ represents the quantity of data samples in each iteration propagated through the network before updating the parameters\n",
        "- __learning rate:__ determines the extent of parameter updates made at each batch/epoch\n",
        "\n"
      ],
      "metadata": {
        "id": "J6Mwh6U1mGev"
      }
    },
    {
      "cell_type": "code",
      "source": [
        "learning_rate = 1e-3\n",
        "batch_size    = 64\n",
        "epochs        = 10\n",
        "# let's use SGD optimization algorithm for training our model\n",
        "optimizer     = torch.optim.SGD(cnn_model.parameters(), lr=learning_rate)"
      ],
      "metadata": {
        "id": "11-Lj-avlzFo"
      },
      "execution_count": 66,
      "outputs": []
    },
    {
      "cell_type": "markdown",
      "source": [
        "__Simpliefy the CNN Network with PyTorch's Sequential() Module__"
      ],
      "metadata": {
        "id": "pIDHTABd4wU1"
      }
    },
    {
      "cell_type": "code",
      "source": [
        "import torch\n",
        "from torch import nn\n",
        "import pdb\n",
        "\n",
        "class SimpleCNNv2(nn.Module):\n",
        "  def __init__(self):\n",
        "    super().__init__()\n",
        "    # your network layer construction should take place here\n",
        "\n",
        "    input_volume_channel_first      = 1\n",
        "    output_volume_channel_first     = 32\n",
        "    input_volume_channel_second     = 32\n",
        "    output_volume_channel_second    = 64\n",
        "    num_of_neurons_output_layer     = 10 # usually this number should be equal to the total number of classes in your classification task\n",
        "\n",
        "    # Beginning layers: a series of 2D convolutional layers (useful for feature map learning from the grid layouts of an image)\n",
        "    self.conv_layers = nn.Sequential(\n",
        "            nn.Conv2d(input_volume_channel_first, output_volume_channel_first, 3),  # 2D convolutional transformation module :input_volume_channel=3, output_volume_channel=32, filter_size= (3x3)\n",
        "            nn.ReLU(),\n",
        "            nn.Conv2d(input_volume_channel_second, output_volume_channel_second, 3), # 2D convolutional transformation module :input_volume_channel=32, output_volume_channel=64, filter_size= (3x3)\n",
        "            nn.ReLU()\n",
        "        )\n",
        "\n",
        "    # --------------------------------------------------------------------------\n",
        "    # -------                 heads up!                                 --------\n",
        "    # you need to calculate the total_size_of_the_output_volume of your self.second_conv_2d layer,\n",
        "    # as it will be needed by the upcoming nn.Linear(). This number will be used as the first argument for the next nn.Linear().\n",
        "    # I pre-calculated this number, and it is 64*24*24 = 36864. I will plug this number in the next layer\n",
        "    # --------------------------------------------------------------------------\n",
        "    self.flatten                    = nn.Flatten()\n",
        "\n",
        "    # End layers: a series of dense linear layers (almost like an MLP for final classification)\n",
        "    self.linear_layers = nn.Sequential(\n",
        "            nn.Linear(64*24*24, 128),  # linear transformation module (input=64*24*24, output=128)\n",
        "            nn.ReLU(),\n",
        "            nn.Linear(128, num_of_neurons_output_layer) # linear transformation module (input=128, output=10)\n",
        "        )\n",
        "\n",
        "\n",
        "  def forward(self, x):\n",
        "    # your code for Conv_2d forward pass should take place here\n",
        "    output = self.conv_layers(x)\n",
        "    output = self.flatten(output)\n",
        "    output = self.linear_layers(output)\n",
        "    return output\n",
        "\n",
        "cnn_model = SimpleCNNv2()\n",
        "print(cnn_model)"
      ],
      "metadata": {
        "colab": {
          "base_uri": "https://localhost:8080/"
        },
        "id": "Js7bNs2y9HZA",
        "outputId": "982f3ac2-9ab8-4238-cd0a-2fd9fcedb61f"
      },
      "execution_count": 1,
      "outputs": [
        {
          "output_type": "stream",
          "name": "stdout",
          "text": [
            "SimpleCNNv2(\n",
            "  (conv_layers): Sequential(\n",
            "    (0): Conv2d(1, 32, kernel_size=(3, 3), stride=(1, 1))\n",
            "    (1): ReLU()\n",
            "    (2): Conv2d(32, 64, kernel_size=(3, 3), stride=(1, 1))\n",
            "    (3): ReLU()\n",
            "  )\n",
            "  (flatten): Flatten(start_dim=1, end_dim=-1)\n",
            "  (linear_layers): Sequential(\n",
            "    (0): Linear(in_features=36864, out_features=128, bias=True)\n",
            "    (1): ReLU()\n",
            "    (2): Linear(in_features=128, out_features=10, bias=True)\n",
            "  )\n",
            ")\n"
          ]
        }
      ]
    },
    {
      "cell_type": "markdown",
      "source": [
        "#__Putting Everything Together CNN__"
      ],
      "metadata": {
        "id": "Z7yBVqvGmQM1"
      }
    },
    {
      "cell_type": "markdown",
      "source": [
        "__Putting Everything Together using our SimpleCNNv2 Network on Fashion-MNIST Dataset__\n"
      ],
      "metadata": {
        "id": "Xn0KYm8r1i1i"
      }
    },
    {
      "cell_type": "code",
      "source": [
        "# Step 1: load the Torch library and other utilities\n",
        "#----------------------------------------------------\n",
        "\n",
        "import torch\n",
        "from torch import nn\n",
        "from torch.utils.data import DataLoader\n",
        "from torchvision import datasets\n",
        "from torchvision.transforms import ToTensor\n",
        "import matplotlib.pyplot as plt\n",
        "\n",
        "# Step 2: load the dataset, ie, we are experimenting with Fashion-MNIST\n",
        "#--------------------------------------------------------------------------------------------------\n",
        "\n",
        "training_data = datasets.FashionMNIST(\n",
        "    root=\"fashion_mnist\",\n",
        "    train=True,\n",
        "    download=True,\n",
        "    transform=ToTensor()\n",
        ")\n",
        "\n",
        "test_data = datasets.FashionMNIST(\n",
        "    root=\"fashion_mnist\",\n",
        "    train=False,\n",
        "    download=True,\n",
        "    transform=ToTensor()\n",
        ")\n",
        "\n",
        "# Step 3: Create your CNN Network (call it SimpleCNNv2) with 2 conv_2d layers + 2 layers of MLP\n",
        "#--------------------------------------------------------------------------------------------------\n",
        "class SimpleCNNv2(nn.Module):\n",
        "  def __init__(self):\n",
        "    super().__init__()\n",
        "    # your network layer construction should take place here\n",
        "\n",
        "    input_volume_channel_first      = 1\n",
        "    output_volume_channel_first     = 32\n",
        "    input_volume_channel_second     = 32\n",
        "    output_volume_channel_second    = 64\n",
        "    num_of_neurons_output_layer     = 10 # usually this number should be equal to the total number of classes in your classification task\n",
        "\n",
        "    # Beginning layers: a series of 2D convolutional layers (useful for feature map learning from the grid layouts of an image)\n",
        "    self.conv_layers = nn.Sequential(\n",
        "            nn.Conv2d(input_volume_channel_first, output_volume_channel_first, 3),  # 2D convolutional transformation module :input_volume_channel=3, output_volume_channel=32, filter_size= (3x3)\n",
        "            nn.ReLU(),\n",
        "            nn.Conv2d(input_volume_channel_second, output_volume_channel_second, 3), # 2D convolutional transformation module :input_volume_channel=32, output_volume_channel=64, filter_size= (3x3)\n",
        "            nn.ReLU()\n",
        "        )\n",
        "    # --------------------------------------------------------------------------\n",
        "    # -------                 heads up!                                 --------\n",
        "    # you need to calculate the total_size_of_the_output_volume of your self.second_conv_2d layer,\n",
        "    # as it will be needed by the upcoming nn.Linear(). This number will be used as the first argument for the next nn.Linear().\n",
        "    # I pre-calculated this number, and it is 64*24*24 = 36864. I will plug this number in the next layer\n",
        "    # --------------------------------------------------------------------------\n",
        "\n",
        "    self.flatten                    = nn.Flatten()\n",
        "\n",
        "    # End layers: a series of dense linear layers (almost like an MLP for final classification)\n",
        "    self.linear_layers = nn.Sequential(\n",
        "            nn.Linear(64*24*24, 128),  # linear transformation module (input=64*24*24, output=128)\n",
        "            nn.ReLU(),\n",
        "            nn.Linear(128, num_of_neurons_output_layer) # linear transformation module (input=128, output=10)\n",
        "        )\n",
        "\n",
        "\n",
        "  def forward(self, x):\n",
        "    # your code for Conv_2d forward pass should take place here\n",
        "    output = self.conv_layers(x)\n",
        "    output = self.flatten(output)\n",
        "    output = self.linear_layers(output)\n",
        "\n",
        "    return output\n",
        "\n",
        "cnn_model = SimpleCNNv2()\n",
        "print(cnn_model)\n",
        "\n",
        "# Step 4: Your training and testing functions (you can copy it from the previous demo)\n",
        "#--------------------------------------------------------------------------------------\n",
        "\n",
        "\n",
        "def train_loop(dataloader, model, loss_fn, optimizer):\n",
        "\n",
        "    size = len(dataloader.dataset)\n",
        "\n",
        "    model.train()                   # set the model to training mode for best practices\n",
        "\n",
        "    train_loss = 0\n",
        "    correct    = 0\n",
        "\n",
        "    for batch, (X, y) in enumerate(dataloader):\n",
        "        # compute prediction and loss\n",
        "        pred = model(X)\n",
        "        loss = loss_fn(pred, y)\n",
        "\n",
        "        # Backpropagation\n",
        "        loss.backward()\n",
        "        optimizer.step()\n",
        "        optimizer.zero_grad()\n",
        "\n",
        "        train_loss += loss.item()\n",
        "\n",
        "        if batch % 100 == 0:\n",
        "            loss, current = loss.item(), (batch + 1) * len(X)\n",
        "            print(f\"loss: {loss:>7f}  [{current:>5d}/{size:>5d}]\")\n",
        "\n",
        "            # compute the accuracy\n",
        "            correct += (pred.argmax(1) == y).type(torch.float).sum().item()\n",
        "\n",
        "    return train_loss/len(dataloader), 100*correct\n",
        "\n",
        "def test_loop(dataloader, model, loss_fn):\n",
        "\n",
        "    model.eval()                    # set the model to evaluation mode for best practices\n",
        "\n",
        "    size        = len(dataloader.dataset)\n",
        "    num_batches = len(dataloader)\n",
        "    test_loss, correct = 0, 0\n",
        "\n",
        "    # Evaluating the model with torch.no_grad() ensures that no gradients are computed during test mode\n",
        "    # also serves to reduce unnecessary gradient computations and memory usage for tensors with requires_grad=True\n",
        "    with torch.no_grad():\n",
        "        for X, y in dataloader:\n",
        "            pred = model(X)\n",
        "            test_loss += loss_fn(pred, y).item()\n",
        "            correct += (pred.argmax(1) == y).type(torch.float).sum().item()\n",
        "\n",
        "    test_loss /= num_batches\n",
        "    correct /= size\n",
        "    print(f\"Test Error: \\n Accuracy: {(100*correct):>0.1f}%, Avg loss: {test_loss:>8f} \\n\")\n",
        "    return test_loss, 100*correct\n",
        "\n",
        "# Step 5: prepare the DataLoader and select your optimizer and set the hyper-parameters for learning the model from DataLoader\n",
        "#------------------------------------------------------------------------------------------------------------------------------\n",
        "\n",
        "learning_rate = 1e-3\n",
        "batch_size_val = 64\n",
        "epochs = 10\n",
        "loss_fn = nn.CrossEntropyLoss()\n",
        "optimizer = torch.optim.SGD(cnn_model.parameters(), lr=learning_rate)\n",
        "\n",
        "train_dataloader = DataLoader(training_data, batch_size=batch_size_val)\n",
        "test_dataloader = DataLoader(test_data, batch_size=batch_size_val)\n",
        "\n",
        "\n",
        "train_losses = []\n",
        "test_losses  = []\n",
        "train_accuracies = []\n",
        "test_accuracies = []\n",
        "for t in range(epochs):\n",
        "    print(f\"Epoch {t+1}\\n-------------------------------\")\n",
        "    avg_train_loss, train_accuracy = train_loop(train_dataloader, cnn_model, loss_fn, optimizer)\n",
        "    avg_test_loss, test_accuracy  = test_loop(test_dataloader, cnn_model, loss_fn)\n",
        "    # save the losses and accuracies\n",
        "    train_losses.append(avg_train_loss)\n",
        "    test_losses.append(avg_test_loss)\n",
        "    train_accuracies.append(train_accuracy)\n",
        "    test_accuracies.append(test_accuracy)\n",
        "print(\"SimpleCNNv2 model has been trained!\")\n",
        "\n",
        "# visualizing the loss curves\n",
        "plt.plot(range(1,epochs+1), train_losses)\n",
        "plt.plot(range(1,epochs+1), test_losses)\n",
        "plt.title('Model average losses after each epoch')\n",
        "plt.ylabel('loss')\n",
        "plt.xlabel('epoch')\n",
        "plt.legend(['train', 'test'])\n",
        "plt.show()\n"
      ],
      "metadata": {
        "colab": {
          "base_uri": "https://localhost:8080/",
          "height": 1000
        },
        "id": "TE6r3j-71vjK",
        "outputId": "b8dffb69-9f9e-42d6-9ad9-5f12429eca9b"
      },
      "execution_count": 4,
      "outputs": [
        {
          "output_type": "stream",
          "name": "stdout",
          "text": [
            "SimpleCNNv2(\n",
            "  (conv_layers): Sequential(\n",
            "    (0): Conv2d(1, 32, kernel_size=(3, 3), stride=(1, 1))\n",
            "    (1): ReLU()\n",
            "    (2): Conv2d(32, 64, kernel_size=(3, 3), stride=(1, 1))\n",
            "    (3): ReLU()\n",
            "  )\n",
            "  (flatten): Flatten(start_dim=1, end_dim=-1)\n",
            "  (linear_layers): Sequential(\n",
            "    (0): Linear(in_features=36864, out_features=128, bias=True)\n",
            "    (1): ReLU()\n",
            "    (2): Linear(in_features=128, out_features=10, bias=True)\n",
            "  )\n",
            ")\n",
            "Epoch 1\n",
            "-------------------------------\n",
            "loss: 2.302379  [   64/60000]\n",
            "loss: 2.199876  [ 6464/60000]\n",
            "loss: 1.983157  [12864/60000]\n",
            "loss: 1.742227  [19264/60000]\n",
            "loss: 1.346542  [25664/60000]\n",
            "loss: 1.095899  [32064/60000]\n",
            "loss: 1.022684  [38464/60000]\n",
            "loss: 0.839562  [44864/60000]\n",
            "loss: 0.867055  [51264/60000]\n",
            "loss: 0.856059  [57664/60000]\n",
            "Test Error: \n",
            " Accuracy: 73.4%, Avg loss: 0.779309 \n",
            "\n",
            "Epoch 2\n",
            "-------------------------------\n",
            "loss: 0.750698  [   64/60000]\n",
            "loss: 0.807368  [ 6464/60000]\n",
            "loss: 0.539248  [12864/60000]\n",
            "loss: 0.822183  [19264/60000]\n",
            "loss: 0.721650  [25664/60000]\n",
            "loss: 0.716041  [32064/60000]\n",
            "loss: 0.746725  [38464/60000]\n",
            "loss: 0.646953  [44864/60000]\n",
            "loss: 0.706258  [51264/60000]\n",
            "loss: 0.704942  [57664/60000]\n",
            "Test Error: \n",
            " Accuracy: 76.4%, Avg loss: 0.655056 \n",
            "\n",
            "Epoch 3\n",
            "-------------------------------\n",
            "loss: 0.584273  [   64/60000]\n",
            "loss: 0.662943  [ 6464/60000]\n",
            "loss: 0.441589  [12864/60000]\n",
            "loss: 0.729065  [19264/60000]\n",
            "loss: 0.657321  [25664/60000]\n",
            "loss: 0.655643  [32064/60000]\n",
            "loss: 0.670572  [38464/60000]\n",
            "loss: 0.618209  [44864/60000]\n",
            "loss: 0.699620  [51264/60000]\n",
            "loss: 0.624941  [57664/60000]\n",
            "Test Error: \n",
            " Accuracy: 76.8%, Avg loss: 0.623078 \n",
            "\n",
            "Epoch 4\n",
            "-------------------------------\n",
            "loss: 0.547566  [   64/60000]\n",
            "loss: 0.607234  [ 6464/60000]\n",
            "loss: 0.411268  [12864/60000]\n",
            "loss: 0.684051  [19264/60000]\n",
            "loss: 0.631822  [25664/60000]\n",
            "loss: 0.621056  [32064/60000]\n",
            "loss: 0.632096  [38464/60000]\n",
            "loss: 0.611591  [44864/60000]\n",
            "loss: 0.705528  [51264/60000]\n",
            "loss: 0.581612  [57664/60000]\n",
            "Test Error: \n",
            " Accuracy: 77.1%, Avg loss: 0.607789 \n",
            "\n",
            "Epoch 5\n",
            "-------------------------------\n",
            "loss: 0.532001  [   64/60000]\n",
            "loss: 0.579190  [ 6464/60000]\n",
            "loss: 0.391335  [12864/60000]\n",
            "loss: 0.653470  [19264/60000]\n",
            "loss: 0.610341  [25664/60000]\n",
            "loss: 0.596184  [32064/60000]\n",
            "loss: 0.603868  [38464/60000]\n",
            "loss: 0.610641  [44864/60000]\n",
            "loss: 0.706265  [51264/60000]\n",
            "loss: 0.550787  [57664/60000]\n",
            "Test Error: \n",
            " Accuracy: 77.3%, Avg loss: 0.599053 \n",
            "\n",
            "Epoch 6\n",
            "-------------------------------\n",
            "loss: 0.523801  [   64/60000]\n",
            "loss: 0.562103  [ 6464/60000]\n",
            "loss: 0.377216  [12864/60000]\n",
            "loss: 0.625219  [19264/60000]\n",
            "loss: 0.595033  [25664/60000]\n",
            "loss: 0.569103  [32064/60000]\n",
            "loss: 0.582466  [38464/60000]\n",
            "loss: 0.608581  [44864/60000]\n",
            "loss: 0.701894  [51264/60000]\n",
            "loss: 0.532555  [57664/60000]\n",
            "Test Error: \n",
            " Accuracy: 77.4%, Avg loss: 0.594564 \n",
            "\n",
            "Epoch 7\n",
            "-------------------------------\n",
            "loss: 0.521516  [   64/60000]\n",
            "loss: 0.546431  [ 6464/60000]\n",
            "loss: 0.367277  [12864/60000]\n",
            "loss: 0.604576  [19264/60000]\n",
            "loss: 0.576677  [25664/60000]\n",
            "loss: 0.547198  [32064/60000]\n",
            "loss: 0.565819  [38464/60000]\n",
            "loss: 0.606603  [44864/60000]\n",
            "loss: 0.700903  [51264/60000]\n",
            "loss: 0.517539  [57664/60000]\n",
            "Test Error: \n",
            " Accuracy: 77.4%, Avg loss: 0.591899 \n",
            "\n",
            "Epoch 8\n",
            "-------------------------------\n",
            "loss: 0.522417  [   64/60000]\n",
            "loss: 0.533470  [ 6464/60000]\n",
            "loss: 0.357997  [12864/60000]\n",
            "loss: 0.584275  [19264/60000]\n",
            "loss: 0.560185  [25664/60000]\n",
            "loss: 0.527725  [32064/60000]\n",
            "loss: 0.551420  [38464/60000]\n",
            "loss: 0.604032  [44864/60000]\n",
            "loss: 0.696929  [51264/60000]\n",
            "loss: 0.502792  [57664/60000]\n",
            "Test Error: \n",
            " Accuracy: 77.6%, Avg loss: 0.588067 \n",
            "\n",
            "Epoch 9\n",
            "-------------------------------\n",
            "loss: 0.522087  [   64/60000]\n",
            "loss: 0.522081  [ 6464/60000]\n",
            "loss: 0.349913  [12864/60000]\n",
            "loss: 0.567873  [19264/60000]\n",
            "loss: 0.543872  [25664/60000]\n",
            "loss: 0.510898  [32064/60000]\n",
            "loss: 0.538348  [38464/60000]\n",
            "loss: 0.600228  [44864/60000]\n",
            "loss: 0.692888  [51264/60000]\n",
            "loss: 0.492475  [57664/60000]\n",
            "Test Error: \n",
            " Accuracy: 78.0%, Avg loss: 0.581733 \n",
            "\n",
            "Epoch 10\n",
            "-------------------------------\n",
            "loss: 0.520577  [   64/60000]\n",
            "loss: 0.511352  [ 6464/60000]\n",
            "loss: 0.342784  [12864/60000]\n",
            "loss: 0.553401  [19264/60000]\n",
            "loss: 0.528260  [25664/60000]\n",
            "loss: 0.497711  [32064/60000]\n",
            "loss: 0.526610  [38464/60000]\n",
            "loss: 0.599684  [44864/60000]\n",
            "loss: 0.689741  [51264/60000]\n",
            "loss: 0.480739  [57664/60000]\n",
            "Test Error: \n",
            " Accuracy: 78.1%, Avg loss: 0.576718 \n",
            "\n",
            "SimpleCNNv2 model has been trained!\n"
          ]
        },
        {
          "output_type": "display_data",
          "data": {
            "text/plain": [
              "<Figure size 640x480 with 1 Axes>"
            ],
            "image/png": "[encoded data removed]"
          },
          "metadata": {}
        }
      ]
    },
    {
      "cell_type": "code",
      "source": [
        "# visualizing the accuracy curves\n",
        "plt.plot(range(1,epochs+1), '-', label=train_accuracies)\n",
        "plt.plot(range(1,epochs+1), '*', label=test_accuracies)\n",
        "plt.title('Model accuracies after each epoch')\n",
        "plt.ylabel('Accuracy')\n",
        "plt.xlabel('Epoch')\n",
        "plt.legend(['train', 'test'])\n",
        "plt.legend(loc='lower right')\n",
        "plt.show()\n"
      ],
      "metadata": {
        "id": "9yAt25QEQx1_"
      },
      "execution_count": null,
      "outputs": []
    },
    {
      "cell_type": "markdown",
      "source": [
        "#__Group Exercise__:\n",
        "Create another CNN with 3 layers of 2D convolution and then train that model on the Fashion-MNIST dataset using the SGD optimizer with a batch size of 64. If time permits, you can also train another CNN with the ADAM optimizer and observe if there is any change in training."
      ],
      "metadata": {
        "id": "p9MmCZ0--f9D"
      }
    },
    {
      "cell_type": "code",
      "source": [
        "# Step 1: load the Torch library and other utilities\n",
        "#----------------------------------------------------\n"
      ],
      "metadata": {
        "id": "SVonqhsEQXl3"
      },
      "execution_count": null,
      "outputs": []
    },
    {
      "cell_type": "code",
      "source": [
        "# Step 2: load the dataset, ie, we are experimenting with Fashion-MNIST\n",
        "#--------------------------------------------------------------------------------------------------\n"
      ],
      "metadata": {
        "id": "kqJB4hncQdXm"
      },
      "execution_count": null,
      "outputs": []
    },
    {
      "cell_type": "code",
      "source": [
        "# Step 3: Create your CNN Network (call it SimpleCNNv3) with 3 conv_2d layers\n",
        "#--------------------------------------------------------------------------------------------------\n"
      ],
      "metadata": {
        "id": "NEzPNtrrQfeP"
      },
      "execution_count": null,
      "outputs": []
    },
    {
      "cell_type": "code",
      "source": [
        "# Step 4: Your training and testing functions (I copied it previous the previous demo. You don't need to change anything)\n",
        "#--------------------------------------------------------------------------------------\n",
        "\n",
        "def train_loop(dataloader, model, loss_fn, optimizer):\n",
        "\n",
        "    size = len(dataloader.dataset)\n",
        "\n",
        "    model.train()                   # set the model to training mode for best practices\n",
        "\n",
        "    train_loss = 0\n",
        "\n",
        "    for batch, (X, y) in enumerate(dataloader):\n",
        "        # compute prediction and loss\n",
        "        pred = model(X)\n",
        "        loss = loss_fn(pred, y)\n",
        "\n",
        "        # Backpropagation\n",
        "        loss.backward()\n",
        "        optimizer.step()\n",
        "        optimizer.zero_grad()\n",
        "\n",
        "        train_loss += loss.item()\n",
        "\n",
        "        if batch % 100 == 0:\n",
        "            loss, current = loss.item(), (batch + 1) * len(X)\n",
        "            print(f\"loss: {loss:>7f}  [{current:>5d}/{size:>5d}]\")\n",
        "\n",
        "    return train_loss/len(dataloader)\n",
        "\n",
        "def test_loop(dataloader, model, loss_fn):\n",
        "\n",
        "    model.eval()                    # set the model to evaluation mode for best practices\n",
        "\n",
        "    size        = len(dataloader.dataset)\n",
        "    num_batches = len(dataloader)\n",
        "    test_loss, correct = 0, 0\n",
        "\n",
        "    # Evaluating the model with torch.no_grad() ensures that no gradients are computed during test mode\n",
        "    # also serves to reduce unnecessary gradient computations and memory usage for tensors with requires_grad=True\n",
        "    with torch.no_grad():\n",
        "        for X, y in dataloader:\n",
        "            pred = model(X)\n",
        "            test_loss += loss_fn(pred, y).item()\n",
        "            correct += (pred.argmax(1) == y).type(torch.float).sum().item()\n",
        "\n",
        "    test_loss /= num_batches\n",
        "    correct /= size\n",
        "    print(f\"Test Error: \\n Accuracy: {(100*correct):>0.1f}%, Avg loss: {test_loss:>8f} \\n\")\n",
        "    return test_loss\n"
      ],
      "metadata": {
        "id": "Yw6a5TByQklU"
      },
      "execution_count": null,
      "outputs": []
    },
    {
      "cell_type": "code",
      "source": [
        "# Step 5: prepare the DataLoader and select your optimizer and set the hyper-parameters for learning the model from DataLoader\n",
        "#------------------------------------------------------------------------------------------------------------------------------\n",
        "# Initialize your hyper-parameter and optimizer with appropriate values\n",
        "# Use your dataset to prepare your DataLoaders one for training_data and one for test_data\n",
        "# ...\n",
        "# ...\n",
        "\n",
        "print(\"SimpleCNNv3 model has been trained!\")\n"
      ],
      "metadata": {
        "id": "tejagPCKQztY"
      },
      "execution_count": null,
      "outputs": []
    },
    {
      "cell_type": "code",
      "source": [
        "# visualizing the loss curves\n"
      ],
      "metadata": {
        "id": "_0hoLrbIRQtk"
      },
      "execution_count": null,
      "outputs": []
    }
  ],
  "metadata": {
    "celltoolbar": "Slideshow",
    "kernelspec": {
      "display_name": "Python 3",
      "name": "python3"
    },
    "language_info": {
      "codemirror_mode": {
        "name": "ipython",
        "version": 3
      },
      "file_extension": ".py",
      "mimetype": "text/x-python",
      "name": "python",
      "nbconvert_exporter": "python",
      "pygments_lexer": "ipython3",
      "version": "3.8.3"
    },
    "colab": {
      "provenance": [],
      "gpuType": "T4",
      "include_colab_link": true
    },
    "accelerator": "GPU"
  },
  "nbformat": 4,
  "nbformat_minor": 0
}